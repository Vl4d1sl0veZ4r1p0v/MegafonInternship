{
 "cells": [
  {
   "cell_type": "markdown",
   "id": "4217944e-f27b-4f59-a94a-a5f91a73972d",
   "metadata": {},
   "source": [
    "# Решение задачи \"Сегментация абонентов по трем категориям\""
   ]
  },
  {
   "cell_type": "code",
   "execution_count": 2,
   "id": "6c7d4f6c-053a-4852-9252-dbbf2485099b",
   "metadata": {},
   "outputs": [],
   "source": [
    "import warnings\n",
    "import pandas as pd\n",
    "import numpy as np\n",
    "import seaborn as sns\n",
    "import matplotlib.pyplot as plt\n",
    "from sklearn import preprocessing\n",
    "from sklearn.metrics import make_scorer, f1_score\n",
    "from sklearn.model_selection import train_test_split, cross_validate, StratifiedKFold\n",
    "from mlxtend.evaluate import lift_score\n",
    "\n",
    "\n",
    "%matplotlib inline\n",
    "warnings.filterwarnings(\"ignore\")"
   ]
  },
  {
   "cell_type": "code",
   "execution_count": 3,
   "id": "7334e6a4-db71-415b-929c-c772c2a03efe",
   "metadata": {},
   "outputs": [],
   "source": [
    "# Функция вывода метрик: F1, Lift\n",
    "def print_scores(name, model, X_test, y_test):\n",
    "    kfold = StratifiedKFold(n_splits=6, shuffle=True, random_state=42)\n",
    "    metrics = {\n",
    "        \"lift\": make_scorer(lift_score),\n",
    "        \"f1\": make_scorer(f1_score, average=\"macro\")\n",
    "    }\n",
    "    score = cross_validate(model, X_test, y_test, scoring=metrics, cv=kfold)\n",
    "    print(f\"Model - {name}: F1(macro) - {np.mean(score['test_f1'])}, Lift - {np.mean(score['test_lift'])}\")"
   ]
  },
  {
   "cell_type": "markdown",
   "id": "273882c9-1902-4779-8209-790cac02afde",
   "metadata": {},
   "source": [
    "## Загружаем данные"
   ]
  },
  {
   "cell_type": "code",
   "execution_count": 4,
   "id": "d04821b5-acde-48d8-8f5a-78e5e74596c8",
   "metadata": {},
   "outputs": [
    {
     "data": {
      "text/html": [
       "<div>\n",
       "<style scoped>\n",
       "    .dataframe tbody tr th:only-of-type {\n",
       "        vertical-align: middle;\n",
       "    }\n",
       "\n",
       "    .dataframe tbody tr th {\n",
       "        vertical-align: top;\n",
       "    }\n",
       "\n",
       "    .dataframe thead th {\n",
       "        text-align: right;\n",
       "    }\n",
       "</style>\n",
       "<table border=\"1\" class=\"dataframe\">\n",
       "  <thead>\n",
       "    <tr style=\"text-align: right;\">\n",
       "      <th></th>\n",
       "      <th>ID</th>\n",
       "      <th>TARGET</th>\n",
       "      <th>FEATURE_0</th>\n",
       "      <th>FEATURE_1</th>\n",
       "      <th>FEATURE_2</th>\n",
       "      <th>FEATURE_3</th>\n",
       "      <th>FEATURE_4</th>\n",
       "      <th>FEATURE_5</th>\n",
       "      <th>FEATURE_6</th>\n",
       "      <th>FEATURE_7</th>\n",
       "      <th>...</th>\n",
       "      <th>FEATURE_250</th>\n",
       "      <th>FEATURE_251</th>\n",
       "      <th>FEATURE_252</th>\n",
       "      <th>FEATURE_253</th>\n",
       "      <th>FEATURE_254</th>\n",
       "      <th>FEATURE_255</th>\n",
       "      <th>FEATURE_256</th>\n",
       "      <th>FEATURE_257</th>\n",
       "      <th>FEATURE_258</th>\n",
       "      <th>FEATURE_259</th>\n",
       "    </tr>\n",
       "  </thead>\n",
       "  <tbody>\n",
       "    <tr>\n",
       "      <th>0</th>\n",
       "      <td>1053371037</td>\n",
       "      <td>1</td>\n",
       "      <td>2.0</td>\n",
       "      <td>2.0</td>\n",
       "      <td>0.0</td>\n",
       "      <td>0.0</td>\n",
       "      <td>0.0</td>\n",
       "      <td>0.0</td>\n",
       "      <td>0.0</td>\n",
       "      <td>-114.527812</td>\n",
       "      <td>...</td>\n",
       "      <td>39.0</td>\n",
       "      <td>2.0</td>\n",
       "      <td>223.118594</td>\n",
       "      <td>290.015143</td>\n",
       "      <td>1.0</td>\n",
       "      <td>1.0</td>\n",
       "      <td>0.0</td>\n",
       "      <td>1.0</td>\n",
       "      <td>2.0</td>\n",
       "      <td>2.0</td>\n",
       "    </tr>\n",
       "    <tr>\n",
       "      <th>1</th>\n",
       "      <td>76507184</td>\n",
       "      <td>0</td>\n",
       "      <td>1.0</td>\n",
       "      <td>1.0</td>\n",
       "      <td>0.0</td>\n",
       "      <td>0.0</td>\n",
       "      <td>1.0</td>\n",
       "      <td>0.0</td>\n",
       "      <td>0.0</td>\n",
       "      <td>329.828334</td>\n",
       "      <td>...</td>\n",
       "      <td>25.0</td>\n",
       "      <td>82.0</td>\n",
       "      <td>479.616045</td>\n",
       "      <td>611.651594</td>\n",
       "      <td>0.0</td>\n",
       "      <td>1.0</td>\n",
       "      <td>0.0</td>\n",
       "      <td>1.0</td>\n",
       "      <td>1.0</td>\n",
       "      <td>1.0</td>\n",
       "    </tr>\n",
       "    <tr>\n",
       "      <th>2</th>\n",
       "      <td>76753690</td>\n",
       "      <td>1</td>\n",
       "      <td>0.0</td>\n",
       "      <td>0.0</td>\n",
       "      <td>0.0</td>\n",
       "      <td>0.0</td>\n",
       "      <td>0.0</td>\n",
       "      <td>0.0</td>\n",
       "      <td>0.0</td>\n",
       "      <td>17.427338</td>\n",
       "      <td>...</td>\n",
       "      <td>119.0</td>\n",
       "      <td>0.0</td>\n",
       "      <td>352.268014</td>\n",
       "      <td>564.573421</td>\n",
       "      <td>1.0</td>\n",
       "      <td>1.0</td>\n",
       "      <td>0.0</td>\n",
       "      <td>1.0</td>\n",
       "      <td>1.0</td>\n",
       "      <td>1.0</td>\n",
       "    </tr>\n",
       "    <tr>\n",
       "      <th>3</th>\n",
       "      <td>1026167358</td>\n",
       "      <td>0</td>\n",
       "      <td>1.0</td>\n",
       "      <td>1.0</td>\n",
       "      <td>0.0</td>\n",
       "      <td>0.0</td>\n",
       "      <td>0.0</td>\n",
       "      <td>0.0</td>\n",
       "      <td>0.0</td>\n",
       "      <td>23.621397</td>\n",
       "      <td>...</td>\n",
       "      <td>1.0</td>\n",
       "      <td>0.0</td>\n",
       "      <td>410.524985</td>\n",
       "      <td>421.653876</td>\n",
       "      <td>1.0</td>\n",
       "      <td>0.0</td>\n",
       "      <td>0.0</td>\n",
       "      <td>1.0</td>\n",
       "      <td>2.0</td>\n",
       "      <td>2.0</td>\n",
       "    </tr>\n",
       "    <tr>\n",
       "      <th>4</th>\n",
       "      <td>7220095746</td>\n",
       "      <td>0</td>\n",
       "      <td>4.0</td>\n",
       "      <td>3.0</td>\n",
       "      <td>1.0</td>\n",
       "      <td>0.0</td>\n",
       "      <td>1.0</td>\n",
       "      <td>0.0</td>\n",
       "      <td>0.0</td>\n",
       "      <td>677.745861</td>\n",
       "      <td>...</td>\n",
       "      <td>21.0</td>\n",
       "      <td>0.0</td>\n",
       "      <td>439.171356</td>\n",
       "      <td>476.189288</td>\n",
       "      <td>1.0</td>\n",
       "      <td>1.0</td>\n",
       "      <td>0.0</td>\n",
       "      <td>1.0</td>\n",
       "      <td>1.0</td>\n",
       "      <td>1.0</td>\n",
       "    </tr>\n",
       "  </tbody>\n",
       "</table>\n",
       "<p>5 rows × 262 columns</p>\n",
       "</div>"
      ],
      "text/plain": [
       "           ID  TARGET  FEATURE_0  FEATURE_1  FEATURE_2  FEATURE_3  FEATURE_4  \\\n",
       "0  1053371037       1        2.0        2.0        0.0        0.0        0.0   \n",
       "1    76507184       0        1.0        1.0        0.0        0.0        1.0   \n",
       "2    76753690       1        0.0        0.0        0.0        0.0        0.0   \n",
       "3  1026167358       0        1.0        1.0        0.0        0.0        0.0   \n",
       "4  7220095746       0        4.0        3.0        1.0        0.0        1.0   \n",
       "\n",
       "   FEATURE_5  FEATURE_6   FEATURE_7  ...  FEATURE_250  FEATURE_251  \\\n",
       "0        0.0        0.0 -114.527812  ...         39.0          2.0   \n",
       "1        0.0        0.0  329.828334  ...         25.0         82.0   \n",
       "2        0.0        0.0   17.427338  ...        119.0          0.0   \n",
       "3        0.0        0.0   23.621397  ...          1.0          0.0   \n",
       "4        0.0        0.0  677.745861  ...         21.0          0.0   \n",
       "\n",
       "   FEATURE_252  FEATURE_253  FEATURE_254  FEATURE_255  FEATURE_256  \\\n",
       "0   223.118594   290.015143          1.0          1.0          0.0   \n",
       "1   479.616045   611.651594          0.0          1.0          0.0   \n",
       "2   352.268014   564.573421          1.0          1.0          0.0   \n",
       "3   410.524985   421.653876          1.0          0.0          0.0   \n",
       "4   439.171356   476.189288          1.0          1.0          0.0   \n",
       "\n",
       "   FEATURE_257  FEATURE_258  FEATURE_259  \n",
       "0          1.0          2.0          2.0  \n",
       "1          1.0          1.0          1.0  \n",
       "2          1.0          1.0          1.0  \n",
       "3          1.0          2.0          2.0  \n",
       "4          1.0          1.0          1.0  \n",
       "\n",
       "[5 rows x 262 columns]"
      ]
     },
     "execution_count": 4,
     "metadata": {},
     "output_type": "execute_result"
    }
   ],
   "source": [
    "df = pd.read_csv (\"contest_train.csv\")\n",
    "df_saved = df\n",
    "df.head()"
   ]
  },
  {
   "attachments": {
    "192ed60d-ecd5-497f-9871-c01f32b79818.png": {
     "image/png": "[encoded data removed]"
    }
   },
   "cell_type": "markdown",
   "id": "75f9b9d5-be52-469d-8ade-64f1f42e23e3",
   "metadata": {},
   "source": [
    "Исследуем данные по описательным статистикам.\n",
    "Можем заметить, что некоторые из характеристик имеют довольно большое стандартное отклонение, для того, чтобы лучше обучить модели, их нужно будет отшкалировать.\n",
    "\n",
    "\n",
    "![image.png](attachment:192ed60d-ecd5-497f-9871-c01f32b79818.png)"
   ]
  },
  {
   "cell_type": "code",
   "execution_count": 5,
   "id": "09055ae8-d283-4d7f-8c10-9f26413adf04",
   "metadata": {},
   "outputs": [
    {
     "data": {
      "text/html": [
       "<div>\n",
       "<style scoped>\n",
       "    .dataframe tbody tr th:only-of-type {\n",
       "        vertical-align: middle;\n",
       "    }\n",
       "\n",
       "    .dataframe tbody tr th {\n",
       "        vertical-align: top;\n",
       "    }\n",
       "\n",
       "    .dataframe thead th {\n",
       "        text-align: right;\n",
       "    }\n",
       "</style>\n",
       "<table border=\"1\" class=\"dataframe\">\n",
       "  <thead>\n",
       "    <tr style=\"text-align: right;\">\n",
       "      <th></th>\n",
       "      <th>ID</th>\n",
       "      <th>TARGET</th>\n",
       "      <th>FEATURE_0</th>\n",
       "      <th>FEATURE_1</th>\n",
       "      <th>FEATURE_2</th>\n",
       "      <th>FEATURE_3</th>\n",
       "      <th>FEATURE_4</th>\n",
       "      <th>FEATURE_5</th>\n",
       "      <th>FEATURE_6</th>\n",
       "      <th>FEATURE_7</th>\n",
       "      <th>...</th>\n",
       "      <th>FEATURE_250</th>\n",
       "      <th>FEATURE_251</th>\n",
       "      <th>FEATURE_252</th>\n",
       "      <th>FEATURE_253</th>\n",
       "      <th>FEATURE_254</th>\n",
       "      <th>FEATURE_255</th>\n",
       "      <th>FEATURE_256</th>\n",
       "      <th>FEATURE_257</th>\n",
       "      <th>FEATURE_258</th>\n",
       "      <th>FEATURE_259</th>\n",
       "    </tr>\n",
       "  </thead>\n",
       "  <tbody>\n",
       "    <tr>\n",
       "      <th>count</th>\n",
       "      <td>2.452100e+04</td>\n",
       "      <td>24521.000000</td>\n",
       "      <td>24521.000000</td>\n",
       "      <td>24521.000000</td>\n",
       "      <td>24521.000000</td>\n",
       "      <td>24521.0</td>\n",
       "      <td>24521.000000</td>\n",
       "      <td>24521.000000</td>\n",
       "      <td>24521.000000</td>\n",
       "      <td>24521.000000</td>\n",
       "      <td>...</td>\n",
       "      <td>24521.000000</td>\n",
       "      <td>24521.000000</td>\n",
       "      <td>24521.000000</td>\n",
       "      <td>24521.000000</td>\n",
       "      <td>24521.000000</td>\n",
       "      <td>24521.000000</td>\n",
       "      <td>24521.0</td>\n",
       "      <td>24521.000000</td>\n",
       "      <td>24521.00000</td>\n",
       "      <td>24521.000000</td>\n",
       "    </tr>\n",
       "    <tr>\n",
       "      <th>mean</th>\n",
       "      <td>1.393464e+09</td>\n",
       "      <td>0.352677</td>\n",
       "      <td>5.438196</td>\n",
       "      <td>1.337833</td>\n",
       "      <td>0.056401</td>\n",
       "      <td>0.0</td>\n",
       "      <td>0.141226</td>\n",
       "      <td>0.000163</td>\n",
       "      <td>0.011378</td>\n",
       "      <td>80.762084</td>\n",
       "      <td>...</td>\n",
       "      <td>41.057379</td>\n",
       "      <td>36.403205</td>\n",
       "      <td>307.827071</td>\n",
       "      <td>408.052350</td>\n",
       "      <td>0.611965</td>\n",
       "      <td>0.640390</td>\n",
       "      <td>0.0</td>\n",
       "      <td>1.138575</td>\n",
       "      <td>1.18580</td>\n",
       "      <td>1.184699</td>\n",
       "    </tr>\n",
       "    <tr>\n",
       "      <th>std</th>\n",
       "      <td>1.981725e+09</td>\n",
       "      <td>0.592092</td>\n",
       "      <td>14.533334</td>\n",
       "      <td>1.826413</td>\n",
       "      <td>0.230698</td>\n",
       "      <td>0.0</td>\n",
       "      <td>0.348262</td>\n",
       "      <td>0.012771</td>\n",
       "      <td>0.106061</td>\n",
       "      <td>256.605853</td>\n",
       "      <td>...</td>\n",
       "      <td>105.000146</td>\n",
       "      <td>105.872566</td>\n",
       "      <td>259.669681</td>\n",
       "      <td>349.968987</td>\n",
       "      <td>0.487312</td>\n",
       "      <td>0.479896</td>\n",
       "      <td>0.0</td>\n",
       "      <td>0.373638</td>\n",
       "      <td>0.40809</td>\n",
       "      <td>0.401288</td>\n",
       "    </tr>\n",
       "    <tr>\n",
       "      <th>min</th>\n",
       "      <td>1.428335e+07</td>\n",
       "      <td>0.000000</td>\n",
       "      <td>0.000000</td>\n",
       "      <td>0.000000</td>\n",
       "      <td>0.000000</td>\n",
       "      <td>0.0</td>\n",
       "      <td>0.000000</td>\n",
       "      <td>0.000000</td>\n",
       "      <td>0.000000</td>\n",
       "      <td>-171.709797</td>\n",
       "      <td>...</td>\n",
       "      <td>-1256.000000</td>\n",
       "      <td>-667.000000</td>\n",
       "      <td>-1531.063435</td>\n",
       "      <td>-328.361649</td>\n",
       "      <td>0.000000</td>\n",
       "      <td>0.000000</td>\n",
       "      <td>0.0</td>\n",
       "      <td>1.000000</td>\n",
       "      <td>0.00000</td>\n",
       "      <td>1.000000</td>\n",
       "    </tr>\n",
       "    <tr>\n",
       "      <th>25%</th>\n",
       "      <td>4.503249e+08</td>\n",
       "      <td>0.000000</td>\n",
       "      <td>0.000000</td>\n",
       "      <td>0.000000</td>\n",
       "      <td>0.000000</td>\n",
       "      <td>0.0</td>\n",
       "      <td>0.000000</td>\n",
       "      <td>0.000000</td>\n",
       "      <td>0.000000</td>\n",
       "      <td>-9.809139</td>\n",
       "      <td>...</td>\n",
       "      <td>0.000000</td>\n",
       "      <td>0.000000</td>\n",
       "      <td>129.829124</td>\n",
       "      <td>179.694989</td>\n",
       "      <td>0.000000</td>\n",
       "      <td>0.000000</td>\n",
       "      <td>0.0</td>\n",
       "      <td>1.000000</td>\n",
       "      <td>1.00000</td>\n",
       "      <td>1.000000</td>\n",
       "    </tr>\n",
       "    <tr>\n",
       "      <th>50%</th>\n",
       "      <td>7.449749e+08</td>\n",
       "      <td>0.000000</td>\n",
       "      <td>1.000000</td>\n",
       "      <td>1.000000</td>\n",
       "      <td>0.000000</td>\n",
       "      <td>0.0</td>\n",
       "      <td>0.000000</td>\n",
       "      <td>0.000000</td>\n",
       "      <td>0.000000</td>\n",
       "      <td>3.673798</td>\n",
       "      <td>...</td>\n",
       "      <td>6.000000</td>\n",
       "      <td>0.000000</td>\n",
       "      <td>265.472906</td>\n",
       "      <td>326.928038</td>\n",
       "      <td>1.000000</td>\n",
       "      <td>1.000000</td>\n",
       "      <td>0.0</td>\n",
       "      <td>1.000000</td>\n",
       "      <td>1.00000</td>\n",
       "      <td>1.000000</td>\n",
       "    </tr>\n",
       "    <tr>\n",
       "      <th>75%</th>\n",
       "      <td>1.152479e+09</td>\n",
       "      <td>1.000000</td>\n",
       "      <td>5.000000</td>\n",
       "      <td>2.000000</td>\n",
       "      <td>0.000000</td>\n",
       "      <td>0.0</td>\n",
       "      <td>0.000000</td>\n",
       "      <td>0.000000</td>\n",
       "      <td>0.000000</td>\n",
       "      <td>27.367809</td>\n",
       "      <td>...</td>\n",
       "      <td>39.000000</td>\n",
       "      <td>10.000000</td>\n",
       "      <td>408.197249</td>\n",
       "      <td>533.731611</td>\n",
       "      <td>1.000000</td>\n",
       "      <td>1.000000</td>\n",
       "      <td>0.0</td>\n",
       "      <td>1.000000</td>\n",
       "      <td>1.00000</td>\n",
       "      <td>1.000000</td>\n",
       "    </tr>\n",
       "    <tr>\n",
       "      <th>max</th>\n",
       "      <td>1.043892e+10</td>\n",
       "      <td>2.000000</td>\n",
       "      <td>385.000000</td>\n",
       "      <td>39.000000</td>\n",
       "      <td>1.000000</td>\n",
       "      <td>0.0</td>\n",
       "      <td>1.000000</td>\n",
       "      <td>1.000000</td>\n",
       "      <td>1.000000</td>\n",
       "      <td>3147.341440</td>\n",
       "      <td>...</td>\n",
       "      <td>1775.000000</td>\n",
       "      <td>3194.000000</td>\n",
       "      <td>4202.905396</td>\n",
       "      <td>4440.534979</td>\n",
       "      <td>1.000000</td>\n",
       "      <td>1.000000</td>\n",
       "      <td>0.0</td>\n",
       "      <td>3.000000</td>\n",
       "      <td>3.00000</td>\n",
       "      <td>3.000000</td>\n",
       "    </tr>\n",
       "  </tbody>\n",
       "</table>\n",
       "<p>8 rows × 262 columns</p>\n",
       "</div>"
      ],
      "text/plain": [
       "                 ID        TARGET     FEATURE_0     FEATURE_1     FEATURE_2  \\\n",
       "count  2.452100e+04  24521.000000  24521.000000  24521.000000  24521.000000   \n",
       "mean   1.393464e+09      0.352677      5.438196      1.337833      0.056401   \n",
       "std    1.981725e+09      0.592092     14.533334      1.826413      0.230698   \n",
       "min    1.428335e+07      0.000000      0.000000      0.000000      0.000000   \n",
       "25%    4.503249e+08      0.000000      0.000000      0.000000      0.000000   \n",
       "50%    7.449749e+08      0.000000      1.000000      1.000000      0.000000   \n",
       "75%    1.152479e+09      1.000000      5.000000      2.000000      0.000000   \n",
       "max    1.043892e+10      2.000000    385.000000     39.000000      1.000000   \n",
       "\n",
       "       FEATURE_3     FEATURE_4     FEATURE_5     FEATURE_6     FEATURE_7  ...  \\\n",
       "count    24521.0  24521.000000  24521.000000  24521.000000  24521.000000  ...   \n",
       "mean         0.0      0.141226      0.000163      0.011378     80.762084  ...   \n",
       "std          0.0      0.348262      0.012771      0.106061    256.605853  ...   \n",
       "min          0.0      0.000000      0.000000      0.000000   -171.709797  ...   \n",
       "25%          0.0      0.000000      0.000000      0.000000     -9.809139  ...   \n",
       "50%          0.0      0.000000      0.000000      0.000000      3.673798  ...   \n",
       "75%          0.0      0.000000      0.000000      0.000000     27.367809  ...   \n",
       "max          0.0      1.000000      1.000000      1.000000   3147.341440  ...   \n",
       "\n",
       "        FEATURE_250   FEATURE_251   FEATURE_252   FEATURE_253   FEATURE_254  \\\n",
       "count  24521.000000  24521.000000  24521.000000  24521.000000  24521.000000   \n",
       "mean      41.057379     36.403205    307.827071    408.052350      0.611965   \n",
       "std      105.000146    105.872566    259.669681    349.968987      0.487312   \n",
       "min    -1256.000000   -667.000000  -1531.063435   -328.361649      0.000000   \n",
       "25%        0.000000      0.000000    129.829124    179.694989      0.000000   \n",
       "50%        6.000000      0.000000    265.472906    326.928038      1.000000   \n",
       "75%       39.000000     10.000000    408.197249    533.731611      1.000000   \n",
       "max     1775.000000   3194.000000   4202.905396   4440.534979      1.000000   \n",
       "\n",
       "        FEATURE_255  FEATURE_256   FEATURE_257  FEATURE_258   FEATURE_259  \n",
       "count  24521.000000      24521.0  24521.000000  24521.00000  24521.000000  \n",
       "mean       0.640390          0.0      1.138575      1.18580      1.184699  \n",
       "std        0.479896          0.0      0.373638      0.40809      0.401288  \n",
       "min        0.000000          0.0      1.000000      0.00000      1.000000  \n",
       "25%        0.000000          0.0      1.000000      1.00000      1.000000  \n",
       "50%        1.000000          0.0      1.000000      1.00000      1.000000  \n",
       "75%        1.000000          0.0      1.000000      1.00000      1.000000  \n",
       "max        1.000000          0.0      3.000000      3.00000      3.000000  \n",
       "\n",
       "[8 rows x 262 columns]"
      ]
     },
     "execution_count": 5,
     "metadata": {},
     "output_type": "execute_result"
    }
   ],
   "source": [
    "df.describe()"
   ]
  },
  {
   "cell_type": "markdown",
   "id": "1c17b4d6-d0e2-432c-ab6c-15013bdc8960",
   "metadata": {},
   "source": [
    "Отчистим данные от возможных nan (not a number), иначе модели не смогут обучиться, а просто выбросят ошибку."
   ]
  },
  {
   "cell_type": "code",
   "execution_count": 6,
   "id": "5faaf671-6e30-4dea-a762-4983f8446547",
   "metadata": {},
   "outputs": [
    {
     "data": {
      "text/plain": [
       "(24521, 262)"
      ]
     },
     "execution_count": 6,
     "metadata": {},
     "output_type": "execute_result"
    }
   ],
   "source": [
    "df.shape"
   ]
  },
  {
   "cell_type": "markdown",
   "id": "b26a1a9c-c4f8-4e3f-a1b7-237415a75954",
   "metadata": {},
   "source": [
    "Видим, если будем удалять наблюдения (строки данных) из-за каждого nan, то останется только 211 наблюдений. Довольно большая потеря, считая, что изначально имели - 24521."
   ]
  },
  {
   "cell_type": "code",
   "execution_count": 5,
   "id": "7bc1d072-e528-4139-9c77-41276699d706",
   "metadata": {},
   "outputs": [
    {
     "data": {
      "text/plain": [
       "(211, 262)"
      ]
     },
     "execution_count": 5,
     "metadata": {},
     "output_type": "execute_result"
    }
   ],
   "source": [
    "df.dropna(axis=0).shape"
   ]
  },
  {
   "cell_type": "markdown",
   "id": "625aab3b-ed4d-42a0-a05f-e708603f6713",
   "metadata": {},
   "source": [
    "Попробуем удалять не наблюдения, а характеристики (колонки). Осталось 209 из 262 - небольшая потеря, по сравнению с потерей наблюдений."
   ]
  },
  {
   "cell_type": "code",
   "execution_count": 6,
   "id": "61a7b76a-cc5d-44a3-b683-1b647690e652",
   "metadata": {},
   "outputs": [
    {
     "data": {
      "text/plain": [
       "(24521, 209)"
      ]
     },
     "execution_count": 6,
     "metadata": {},
     "output_type": "execute_result"
    }
   ],
   "source": [
    "df.dropna(axis=1).shape"
   ]
  },
  {
   "cell_type": "code",
   "execution_count": 7,
   "id": "7567a7df-5326-4e57-9c0e-057abe0c4579",
   "metadata": {},
   "outputs": [
    {
     "data": {
      "text/plain": [
       "(24521, 209)"
      ]
     },
     "execution_count": 7,
     "metadata": {},
     "output_type": "execute_result"
    }
   ],
   "source": [
    "df = df.dropna(axis=1)\n",
    "df.shape"
   ]
  },
  {
   "attachments": {
    "f7affb98-b465-4c83-8d8f-dee7e6f685a4.png": {
     "image/png": "[encoded data removed]"
    }
   },
   "cell_type": "markdown",
   "id": "7528e2cb-4e55-493a-8d41-3e3794718bc4",
   "metadata": {},
   "source": [
    "Также видим, что в данных есть характеристики, которые для всех наблюдений имеют значение 0, они не имеют ни какого значения для обучения, так как не вносят ничего нового в данные. \n",
    "\n",
    "\n",
    "![image.png](attachment:f7affb98-b465-4c83-8d8f-dee7e6f685a4.png)"
   ]
  },
  {
   "cell_type": "markdown",
   "id": "27c351fb-fa29-4d70-aa2b-f3b3dfbf6bdf",
   "metadata": {},
   "source": [
    "После их удаления останется 205 характеристик. Этого количества более чем достаточно для обучения моделей. Удалим их."
   ]
  },
  {
   "cell_type": "code",
   "execution_count": 8,
   "id": "8c109f03-846c-4c39-9182-04ab097e5879",
   "metadata": {},
   "outputs": [
    {
     "data": {
      "text/plain": [
       "(24521, 205)"
      ]
     },
     "execution_count": 8,
     "metadata": {},
     "output_type": "execute_result"
    }
   ],
   "source": [
    "df.loc[:, (df != 0).any(axis=0)].shape"
   ]
  },
  {
   "cell_type": "code",
   "execution_count": 9,
   "id": "4a44522a-7baf-4811-9438-45391f21b2da",
   "metadata": {},
   "outputs": [],
   "source": [
    "df = df.loc[:, (df != 0).any(axis=0)]"
   ]
  },
  {
   "cell_type": "markdown",
   "id": "22649a61-39e2-47e8-b581-3347eee6cb65",
   "metadata": {},
   "source": [
    "Проверим, есть ли наблюдения содержащие только нули. Как видим, после удаления таких наблюдений ничего не изменилось - значит их нет."
   ]
  },
  {
   "cell_type": "code",
   "execution_count": 10,
   "id": "15b959e1-9134-45c9-98e4-b5f85e9d537e",
   "metadata": {},
   "outputs": [
    {
     "data": {
      "text/plain": [
       "(24521, 205)"
      ]
     },
     "execution_count": 10,
     "metadata": {},
     "output_type": "execute_result"
    }
   ],
   "source": [
    "df[(df.T != 0).any()].shape"
   ]
  },
  {
   "cell_type": "code",
   "execution_count": 11,
   "id": "01199c55-2dd1-42a0-a509-05bc190a2a91",
   "metadata": {},
   "outputs": [
    {
     "data": {
      "text/html": [
       "<div>\n",
       "<style scoped>\n",
       "    .dataframe tbody tr th:only-of-type {\n",
       "        vertical-align: middle;\n",
       "    }\n",
       "\n",
       "    .dataframe tbody tr th {\n",
       "        vertical-align: top;\n",
       "    }\n",
       "\n",
       "    .dataframe thead th {\n",
       "        text-align: right;\n",
       "    }\n",
       "</style>\n",
       "<table border=\"1\" class=\"dataframe\">\n",
       "  <thead>\n",
       "    <tr style=\"text-align: right;\">\n",
       "      <th></th>\n",
       "      <th>ID</th>\n",
       "      <th>TARGET</th>\n",
       "      <th>FEATURE_0</th>\n",
       "      <th>FEATURE_1</th>\n",
       "      <th>FEATURE_2</th>\n",
       "      <th>FEATURE_4</th>\n",
       "      <th>FEATURE_5</th>\n",
       "      <th>FEATURE_6</th>\n",
       "      <th>FEATURE_7</th>\n",
       "      <th>FEATURE_9</th>\n",
       "      <th>...</th>\n",
       "      <th>FEATURE_248</th>\n",
       "      <th>FEATURE_250</th>\n",
       "      <th>FEATURE_251</th>\n",
       "      <th>FEATURE_252</th>\n",
       "      <th>FEATURE_253</th>\n",
       "      <th>FEATURE_254</th>\n",
       "      <th>FEATURE_255</th>\n",
       "      <th>FEATURE_257</th>\n",
       "      <th>FEATURE_258</th>\n",
       "      <th>FEATURE_259</th>\n",
       "    </tr>\n",
       "  </thead>\n",
       "  <tbody>\n",
       "    <tr>\n",
       "      <th>count</th>\n",
       "      <td>2.452100e+04</td>\n",
       "      <td>24521.000000</td>\n",
       "      <td>24521.000000</td>\n",
       "      <td>24521.000000</td>\n",
       "      <td>24521.000000</td>\n",
       "      <td>24521.000000</td>\n",
       "      <td>24521.000000</td>\n",
       "      <td>24521.000000</td>\n",
       "      <td>24521.000000</td>\n",
       "      <td>24521.000000</td>\n",
       "      <td>...</td>\n",
       "      <td>24521.000000</td>\n",
       "      <td>24521.000000</td>\n",
       "      <td>24521.000000</td>\n",
       "      <td>24521.000000</td>\n",
       "      <td>24521.000000</td>\n",
       "      <td>24521.000000</td>\n",
       "      <td>24521.000000</td>\n",
       "      <td>24521.000000</td>\n",
       "      <td>24521.00000</td>\n",
       "      <td>24521.000000</td>\n",
       "    </tr>\n",
       "    <tr>\n",
       "      <th>mean</th>\n",
       "      <td>1.393464e+09</td>\n",
       "      <td>0.352677</td>\n",
       "      <td>5.438196</td>\n",
       "      <td>1.337833</td>\n",
       "      <td>0.056401</td>\n",
       "      <td>0.141226</td>\n",
       "      <td>0.000163</td>\n",
       "      <td>0.011378</td>\n",
       "      <td>80.762084</td>\n",
       "      <td>0.383304</td>\n",
       "      <td>...</td>\n",
       "      <td>12.047959</td>\n",
       "      <td>41.057379</td>\n",
       "      <td>36.403205</td>\n",
       "      <td>307.827071</td>\n",
       "      <td>408.052350</td>\n",
       "      <td>0.611965</td>\n",
       "      <td>0.640390</td>\n",
       "      <td>1.138575</td>\n",
       "      <td>1.18580</td>\n",
       "      <td>1.184699</td>\n",
       "    </tr>\n",
       "    <tr>\n",
       "      <th>std</th>\n",
       "      <td>1.981725e+09</td>\n",
       "      <td>0.592092</td>\n",
       "      <td>14.533334</td>\n",
       "      <td>1.826413</td>\n",
       "      <td>0.230698</td>\n",
       "      <td>0.348262</td>\n",
       "      <td>0.012771</td>\n",
       "      <td>0.106061</td>\n",
       "      <td>256.605853</td>\n",
       "      <td>0.867586</td>\n",
       "      <td>...</td>\n",
       "      <td>34.038422</td>\n",
       "      <td>105.000146</td>\n",
       "      <td>105.872566</td>\n",
       "      <td>259.669681</td>\n",
       "      <td>349.968987</td>\n",
       "      <td>0.487312</td>\n",
       "      <td>0.479896</td>\n",
       "      <td>0.373638</td>\n",
       "      <td>0.40809</td>\n",
       "      <td>0.401288</td>\n",
       "    </tr>\n",
       "    <tr>\n",
       "      <th>min</th>\n",
       "      <td>1.428335e+07</td>\n",
       "      <td>0.000000</td>\n",
       "      <td>0.000000</td>\n",
       "      <td>0.000000</td>\n",
       "      <td>0.000000</td>\n",
       "      <td>0.000000</td>\n",
       "      <td>0.000000</td>\n",
       "      <td>0.000000</td>\n",
       "      <td>-171.709797</td>\n",
       "      <td>0.000000</td>\n",
       "      <td>...</td>\n",
       "      <td>0.000000</td>\n",
       "      <td>-1256.000000</td>\n",
       "      <td>-667.000000</td>\n",
       "      <td>-1531.063435</td>\n",
       "      <td>-328.361649</td>\n",
       "      <td>0.000000</td>\n",
       "      <td>0.000000</td>\n",
       "      <td>1.000000</td>\n",
       "      <td>0.00000</td>\n",
       "      <td>1.000000</td>\n",
       "    </tr>\n",
       "    <tr>\n",
       "      <th>25%</th>\n",
       "      <td>4.503249e+08</td>\n",
       "      <td>0.000000</td>\n",
       "      <td>0.000000</td>\n",
       "      <td>0.000000</td>\n",
       "      <td>0.000000</td>\n",
       "      <td>0.000000</td>\n",
       "      <td>0.000000</td>\n",
       "      <td>0.000000</td>\n",
       "      <td>-9.809139</td>\n",
       "      <td>0.000000</td>\n",
       "      <td>...</td>\n",
       "      <td>0.000000</td>\n",
       "      <td>0.000000</td>\n",
       "      <td>0.000000</td>\n",
       "      <td>129.829124</td>\n",
       "      <td>179.694989</td>\n",
       "      <td>0.000000</td>\n",
       "      <td>0.000000</td>\n",
       "      <td>1.000000</td>\n",
       "      <td>1.00000</td>\n",
       "      <td>1.000000</td>\n",
       "    </tr>\n",
       "    <tr>\n",
       "      <th>50%</th>\n",
       "      <td>7.449749e+08</td>\n",
       "      <td>0.000000</td>\n",
       "      <td>1.000000</td>\n",
       "      <td>1.000000</td>\n",
       "      <td>0.000000</td>\n",
       "      <td>0.000000</td>\n",
       "      <td>0.000000</td>\n",
       "      <td>0.000000</td>\n",
       "      <td>3.673798</td>\n",
       "      <td>0.000000</td>\n",
       "      <td>...</td>\n",
       "      <td>1.000000</td>\n",
       "      <td>6.000000</td>\n",
       "      <td>0.000000</td>\n",
       "      <td>265.472906</td>\n",
       "      <td>326.928038</td>\n",
       "      <td>1.000000</td>\n",
       "      <td>1.000000</td>\n",
       "      <td>1.000000</td>\n",
       "      <td>1.00000</td>\n",
       "      <td>1.000000</td>\n",
       "    </tr>\n",
       "    <tr>\n",
       "      <th>75%</th>\n",
       "      <td>1.152479e+09</td>\n",
       "      <td>1.000000</td>\n",
       "      <td>5.000000</td>\n",
       "      <td>2.000000</td>\n",
       "      <td>0.000000</td>\n",
       "      <td>0.000000</td>\n",
       "      <td>0.000000</td>\n",
       "      <td>0.000000</td>\n",
       "      <td>27.367809</td>\n",
       "      <td>0.000000</td>\n",
       "      <td>...</td>\n",
       "      <td>10.000000</td>\n",
       "      <td>39.000000</td>\n",
       "      <td>10.000000</td>\n",
       "      <td>408.197249</td>\n",
       "      <td>533.731611</td>\n",
       "      <td>1.000000</td>\n",
       "      <td>1.000000</td>\n",
       "      <td>1.000000</td>\n",
       "      <td>1.00000</td>\n",
       "      <td>1.000000</td>\n",
       "    </tr>\n",
       "    <tr>\n",
       "      <th>max</th>\n",
       "      <td>1.043892e+10</td>\n",
       "      <td>2.000000</td>\n",
       "      <td>385.000000</td>\n",
       "      <td>39.000000</td>\n",
       "      <td>1.000000</td>\n",
       "      <td>1.000000</td>\n",
       "      <td>1.000000</td>\n",
       "      <td>1.000000</td>\n",
       "      <td>3147.341440</td>\n",
       "      <td>11.000000</td>\n",
       "      <td>...</td>\n",
       "      <td>1483.000000</td>\n",
       "      <td>1775.000000</td>\n",
       "      <td>3194.000000</td>\n",
       "      <td>4202.905396</td>\n",
       "      <td>4440.534979</td>\n",
       "      <td>1.000000</td>\n",
       "      <td>1.000000</td>\n",
       "      <td>3.000000</td>\n",
       "      <td>3.00000</td>\n",
       "      <td>3.000000</td>\n",
       "    </tr>\n",
       "  </tbody>\n",
       "</table>\n",
       "<p>8 rows × 205 columns</p>\n",
       "</div>"
      ],
      "text/plain": [
       "                 ID        TARGET     FEATURE_0     FEATURE_1     FEATURE_2  \\\n",
       "count  2.452100e+04  24521.000000  24521.000000  24521.000000  24521.000000   \n",
       "mean   1.393464e+09      0.352677      5.438196      1.337833      0.056401   \n",
       "std    1.981725e+09      0.592092     14.533334      1.826413      0.230698   \n",
       "min    1.428335e+07      0.000000      0.000000      0.000000      0.000000   \n",
       "25%    4.503249e+08      0.000000      0.000000      0.000000      0.000000   \n",
       "50%    7.449749e+08      0.000000      1.000000      1.000000      0.000000   \n",
       "75%    1.152479e+09      1.000000      5.000000      2.000000      0.000000   \n",
       "max    1.043892e+10      2.000000    385.000000     39.000000      1.000000   \n",
       "\n",
       "          FEATURE_4     FEATURE_5     FEATURE_6     FEATURE_7     FEATURE_9  \\\n",
       "count  24521.000000  24521.000000  24521.000000  24521.000000  24521.000000   \n",
       "mean       0.141226      0.000163      0.011378     80.762084      0.383304   \n",
       "std        0.348262      0.012771      0.106061    256.605853      0.867586   \n",
       "min        0.000000      0.000000      0.000000   -171.709797      0.000000   \n",
       "25%        0.000000      0.000000      0.000000     -9.809139      0.000000   \n",
       "50%        0.000000      0.000000      0.000000      3.673798      0.000000   \n",
       "75%        0.000000      0.000000      0.000000     27.367809      0.000000   \n",
       "max        1.000000      1.000000      1.000000   3147.341440     11.000000   \n",
       "\n",
       "       ...   FEATURE_248   FEATURE_250   FEATURE_251   FEATURE_252  \\\n",
       "count  ...  24521.000000  24521.000000  24521.000000  24521.000000   \n",
       "mean   ...     12.047959     41.057379     36.403205    307.827071   \n",
       "std    ...     34.038422    105.000146    105.872566    259.669681   \n",
       "min    ...      0.000000  -1256.000000   -667.000000  -1531.063435   \n",
       "25%    ...      0.000000      0.000000      0.000000    129.829124   \n",
       "50%    ...      1.000000      6.000000      0.000000    265.472906   \n",
       "75%    ...     10.000000     39.000000     10.000000    408.197249   \n",
       "max    ...   1483.000000   1775.000000   3194.000000   4202.905396   \n",
       "\n",
       "        FEATURE_253   FEATURE_254   FEATURE_255   FEATURE_257  FEATURE_258  \\\n",
       "count  24521.000000  24521.000000  24521.000000  24521.000000  24521.00000   \n",
       "mean     408.052350      0.611965      0.640390      1.138575      1.18580   \n",
       "std      349.968987      0.487312      0.479896      0.373638      0.40809   \n",
       "min     -328.361649      0.000000      0.000000      1.000000      0.00000   \n",
       "25%      179.694989      0.000000      0.000000      1.000000      1.00000   \n",
       "50%      326.928038      1.000000      1.000000      1.000000      1.00000   \n",
       "75%      533.731611      1.000000      1.000000      1.000000      1.00000   \n",
       "max     4440.534979      1.000000      1.000000      3.000000      3.00000   \n",
       "\n",
       "        FEATURE_259  \n",
       "count  24521.000000  \n",
       "mean       1.184699  \n",
       "std        0.401288  \n",
       "min        1.000000  \n",
       "25%        1.000000  \n",
       "50%        1.000000  \n",
       "75%        1.000000  \n",
       "max        3.000000  \n",
       "\n",
       "[8 rows x 205 columns]"
      ]
     },
     "execution_count": 11,
     "metadata": {},
     "output_type": "execute_result"
    }
   ],
   "source": [
    "df.describe()"
   ]
  },
  {
   "cell_type": "markdown",
   "id": "38fee26f-c821-4071-a70c-c0e360e22672",
   "metadata": {},
   "source": [
    "Однако, так как в тестовой выборке тоже есть nan, лучше не удалять подобные колонки, а просто заполнить nan другими значениями, например, 0."
   ]
  },
  {
   "cell_type": "code",
   "execution_count": 7,
   "id": "aea8787e-5121-4b94-984c-920d4515154c",
   "metadata": {},
   "outputs": [],
   "source": [
    "df = df_saved.fillna(0.)"
   ]
  },
  {
   "cell_type": "code",
   "execution_count": 8,
   "id": "3aaf62b7-cc71-4643-bfb6-adf222339562",
   "metadata": {},
   "outputs": [
    {
     "data": {
      "text/plain": [
       "(24521, 262)"
      ]
     },
     "execution_count": 8,
     "metadata": {},
     "output_type": "execute_result"
    }
   ],
   "source": [
    "df.shape"
   ]
  },
  {
   "cell_type": "markdown",
   "id": "66d5d0df-4969-4da7-a793-41ec7b1bfbc7",
   "metadata": {},
   "source": [
    "## Разделяем данные"
   ]
  },
  {
   "cell_type": "markdown",
   "id": "0ef4b0ff-5d22-4f78-b1ce-8249b47e1c5a",
   "metadata": {},
   "source": [
    "Определим набор характеристик, по которым будем обучать модель - Х и целевую переменную (target) - y."
   ]
  },
  {
   "cell_type": "markdown",
   "id": "08a1e103-cb9c-423e-b143-75b0ed3c4bb3",
   "metadata": {},
   "source": [
    "Для начала определим Х."
   ]
  },
  {
   "cell_type": "code",
   "execution_count": 9,
   "id": "aed37dfd-7927-419e-afb2-b76fda68a34e",
   "metadata": {},
   "outputs": [
    {
     "data": {
      "text/plain": [
       "Index(['ID', 'TARGET', 'FEATURE_0', 'FEATURE_1', 'FEATURE_2', 'FEATURE_3',\n",
       "       'FEATURE_4', 'FEATURE_5', 'FEATURE_6', 'FEATURE_7',\n",
       "       ...\n",
       "       'FEATURE_250', 'FEATURE_251', 'FEATURE_252', 'FEATURE_253',\n",
       "       'FEATURE_254', 'FEATURE_255', 'FEATURE_256', 'FEATURE_257',\n",
       "       'FEATURE_258', 'FEATURE_259'],\n",
       "      dtype='object', length=262)"
      ]
     },
     "execution_count": 9,
     "metadata": {},
     "output_type": "execute_result"
    }
   ],
   "source": [
    "df.columns"
   ]
  },
  {
   "cell_type": "code",
   "execution_count": 10,
   "id": "59750a55-d272-4267-ae55-36d1f94af5c7",
   "metadata": {},
   "outputs": [
    {
     "data": {
      "text/html": [
       "<div>\n",
       "<style scoped>\n",
       "    .dataframe tbody tr th:only-of-type {\n",
       "        vertical-align: middle;\n",
       "    }\n",
       "\n",
       "    .dataframe tbody tr th {\n",
       "        vertical-align: top;\n",
       "    }\n",
       "\n",
       "    .dataframe thead th {\n",
       "        text-align: right;\n",
       "    }\n",
       "</style>\n",
       "<table border=\"1\" class=\"dataframe\">\n",
       "  <thead>\n",
       "    <tr style=\"text-align: right;\">\n",
       "      <th></th>\n",
       "      <th>FEATURE_0</th>\n",
       "      <th>FEATURE_1</th>\n",
       "      <th>FEATURE_2</th>\n",
       "      <th>FEATURE_3</th>\n",
       "      <th>FEATURE_4</th>\n",
       "      <th>FEATURE_5</th>\n",
       "      <th>FEATURE_6</th>\n",
       "      <th>FEATURE_7</th>\n",
       "      <th>FEATURE_8</th>\n",
       "      <th>FEATURE_9</th>\n",
       "      <th>...</th>\n",
       "      <th>FEATURE_250</th>\n",
       "      <th>FEATURE_251</th>\n",
       "      <th>FEATURE_252</th>\n",
       "      <th>FEATURE_253</th>\n",
       "      <th>FEATURE_254</th>\n",
       "      <th>FEATURE_255</th>\n",
       "      <th>FEATURE_256</th>\n",
       "      <th>FEATURE_257</th>\n",
       "      <th>FEATURE_258</th>\n",
       "      <th>FEATURE_259</th>\n",
       "    </tr>\n",
       "  </thead>\n",
       "  <tbody>\n",
       "    <tr>\n",
       "      <th>0</th>\n",
       "      <td>2.0</td>\n",
       "      <td>2.0</td>\n",
       "      <td>0.0</td>\n",
       "      <td>0.0</td>\n",
       "      <td>0.0</td>\n",
       "      <td>0.0</td>\n",
       "      <td>0.0</td>\n",
       "      <td>-114.527812</td>\n",
       "      <td>-17.218055</td>\n",
       "      <td>0.0</td>\n",
       "      <td>...</td>\n",
       "      <td>39.0</td>\n",
       "      <td>2.0</td>\n",
       "      <td>223.118594</td>\n",
       "      <td>290.015143</td>\n",
       "      <td>1.0</td>\n",
       "      <td>1.0</td>\n",
       "      <td>0.0</td>\n",
       "      <td>1.0</td>\n",
       "      <td>2.0</td>\n",
       "      <td>2.0</td>\n",
       "    </tr>\n",
       "    <tr>\n",
       "      <th>1</th>\n",
       "      <td>1.0</td>\n",
       "      <td>1.0</td>\n",
       "      <td>0.0</td>\n",
       "      <td>0.0</td>\n",
       "      <td>1.0</td>\n",
       "      <td>0.0</td>\n",
       "      <td>0.0</td>\n",
       "      <td>329.828334</td>\n",
       "      <td>0.000000</td>\n",
       "      <td>3.0</td>\n",
       "      <td>...</td>\n",
       "      <td>25.0</td>\n",
       "      <td>82.0</td>\n",
       "      <td>479.616045</td>\n",
       "      <td>611.651594</td>\n",
       "      <td>0.0</td>\n",
       "      <td>1.0</td>\n",
       "      <td>0.0</td>\n",
       "      <td>1.0</td>\n",
       "      <td>1.0</td>\n",
       "      <td>1.0</td>\n",
       "    </tr>\n",
       "    <tr>\n",
       "      <th>2</th>\n",
       "      <td>0.0</td>\n",
       "      <td>0.0</td>\n",
       "      <td>0.0</td>\n",
       "      <td>0.0</td>\n",
       "      <td>0.0</td>\n",
       "      <td>0.0</td>\n",
       "      <td>0.0</td>\n",
       "      <td>17.427338</td>\n",
       "      <td>-6.680747</td>\n",
       "      <td>0.0</td>\n",
       "      <td>...</td>\n",
       "      <td>119.0</td>\n",
       "      <td>0.0</td>\n",
       "      <td>352.268014</td>\n",
       "      <td>564.573421</td>\n",
       "      <td>1.0</td>\n",
       "      <td>1.0</td>\n",
       "      <td>0.0</td>\n",
       "      <td>1.0</td>\n",
       "      <td>1.0</td>\n",
       "      <td>1.0</td>\n",
       "    </tr>\n",
       "    <tr>\n",
       "      <th>3</th>\n",
       "      <td>1.0</td>\n",
       "      <td>1.0</td>\n",
       "      <td>0.0</td>\n",
       "      <td>0.0</td>\n",
       "      <td>0.0</td>\n",
       "      <td>0.0</td>\n",
       "      <td>0.0</td>\n",
       "      <td>23.621397</td>\n",
       "      <td>36.659534</td>\n",
       "      <td>0.0</td>\n",
       "      <td>...</td>\n",
       "      <td>1.0</td>\n",
       "      <td>0.0</td>\n",
       "      <td>410.524985</td>\n",
       "      <td>421.653876</td>\n",
       "      <td>1.0</td>\n",
       "      <td>0.0</td>\n",
       "      <td>0.0</td>\n",
       "      <td>1.0</td>\n",
       "      <td>2.0</td>\n",
       "      <td>2.0</td>\n",
       "    </tr>\n",
       "    <tr>\n",
       "      <th>4</th>\n",
       "      <td>4.0</td>\n",
       "      <td>3.0</td>\n",
       "      <td>1.0</td>\n",
       "      <td>0.0</td>\n",
       "      <td>1.0</td>\n",
       "      <td>0.0</td>\n",
       "      <td>0.0</td>\n",
       "      <td>677.745861</td>\n",
       "      <td>0.000000</td>\n",
       "      <td>3.0</td>\n",
       "      <td>...</td>\n",
       "      <td>21.0</td>\n",
       "      <td>0.0</td>\n",
       "      <td>439.171356</td>\n",
       "      <td>476.189288</td>\n",
       "      <td>1.0</td>\n",
       "      <td>1.0</td>\n",
       "      <td>0.0</td>\n",
       "      <td>1.0</td>\n",
       "      <td>1.0</td>\n",
       "      <td>1.0</td>\n",
       "    </tr>\n",
       "  </tbody>\n",
       "</table>\n",
       "<p>5 rows × 260 columns</p>\n",
       "</div>"
      ],
      "text/plain": [
       "   FEATURE_0  FEATURE_1  FEATURE_2  FEATURE_3  FEATURE_4  FEATURE_5  \\\n",
       "0        2.0        2.0        0.0        0.0        0.0        0.0   \n",
       "1        1.0        1.0        0.0        0.0        1.0        0.0   \n",
       "2        0.0        0.0        0.0        0.0        0.0        0.0   \n",
       "3        1.0        1.0        0.0        0.0        0.0        0.0   \n",
       "4        4.0        3.0        1.0        0.0        1.0        0.0   \n",
       "\n",
       "   FEATURE_6   FEATURE_7  FEATURE_8  FEATURE_9  ...  FEATURE_250  FEATURE_251  \\\n",
       "0        0.0 -114.527812 -17.218055        0.0  ...         39.0          2.0   \n",
       "1        0.0  329.828334   0.000000        3.0  ...         25.0         82.0   \n",
       "2        0.0   17.427338  -6.680747        0.0  ...        119.0          0.0   \n",
       "3        0.0   23.621397  36.659534        0.0  ...          1.0          0.0   \n",
       "4        0.0  677.745861   0.000000        3.0  ...         21.0          0.0   \n",
       "\n",
       "   FEATURE_252  FEATURE_253  FEATURE_254  FEATURE_255  FEATURE_256  \\\n",
       "0   223.118594   290.015143          1.0          1.0          0.0   \n",
       "1   479.616045   611.651594          0.0          1.0          0.0   \n",
       "2   352.268014   564.573421          1.0          1.0          0.0   \n",
       "3   410.524985   421.653876          1.0          0.0          0.0   \n",
       "4   439.171356   476.189288          1.0          1.0          0.0   \n",
       "\n",
       "   FEATURE_257  FEATURE_258  FEATURE_259  \n",
       "0          1.0          2.0          2.0  \n",
       "1          1.0          1.0          1.0  \n",
       "2          1.0          1.0          1.0  \n",
       "3          1.0          2.0          2.0  \n",
       "4          1.0          1.0          1.0  \n",
       "\n",
       "[5 rows x 260 columns]"
      ]
     },
     "execution_count": 10,
     "metadata": {},
     "output_type": "execute_result"
    }
   ],
   "source": [
    "X = df[df.columns[2:]]\n",
    "X[0:5]"
   ]
  },
  {
   "cell_type": "code",
   "execution_count": 11,
   "id": "f517fdd9-4fde-423b-a9be-be2a7cffdb88",
   "metadata": {},
   "outputs": [
    {
     "data": {
      "text/plain": [
       "array([1, 0, 1, 0, 0])"
      ]
     },
     "execution_count": 11,
     "metadata": {},
     "output_type": "execute_result"
    }
   ],
   "source": [
    "y = df[\"TARGET\"].values\n",
    "y[0:5]"
   ]
  },
  {
   "cell_type": "markdown",
   "id": "e99753e6-a9b7-4910-9273-0d57b3301989",
   "metadata": {},
   "source": [
    "## Стандартизируем данные"
   ]
  },
  {
   "cell_type": "markdown",
   "id": "edeef561-4339-449c-9bb5-0a29c216d716",
   "metadata": {},
   "source": [
    "Стандартизация данных дает нулевое среднее значение и единичную дисперсию, это хорошая практика, особенно для таких алгоритмов, как KNN, который основан на расстоянии наблюдений."
   ]
  },
  {
   "cell_type": "markdown",
   "id": "4b95abc7-3cef-495a-bf30-b52370c508ca",
   "metadata": {},
   "source": [
    "Для начала определим категориальные характеристики. **Категориальные характеристики** могут принимать только ограниченное и обычно фиксированное количество возможных значений. Например, если набор данных касается информации, связанной с пользователями: обычно такие характеристики, как страна, пол, возрастная группа и так далее. Их стандартизация приведет к потере смысла."
   ]
  },
  {
   "cell_type": "code",
   "execution_count": 12,
   "id": "dc25b66c-2f4c-433d-a34f-dcc56035c8f2",
   "metadata": {
    "tags": []
   },
   "outputs": [
    {
     "data": {
      "text/plain": [
       "{'FEATURE_11',\n",
       " 'FEATURE_123',\n",
       " 'FEATURE_131',\n",
       " 'FEATURE_140',\n",
       " 'FEATURE_144',\n",
       " 'FEATURE_15',\n",
       " 'FEATURE_156',\n",
       " 'FEATURE_157',\n",
       " 'FEATURE_159',\n",
       " 'FEATURE_16',\n",
       " 'FEATURE_17',\n",
       " 'FEATURE_18',\n",
       " 'FEATURE_19',\n",
       " 'FEATURE_2',\n",
       " 'FEATURE_203',\n",
       " 'FEATURE_204',\n",
       " 'FEATURE_205',\n",
       " 'FEATURE_206',\n",
       " 'FEATURE_207',\n",
       " 'FEATURE_208',\n",
       " 'FEATURE_220',\n",
       " 'FEATURE_249',\n",
       " 'FEATURE_254',\n",
       " 'FEATURE_255',\n",
       " 'FEATURE_256',\n",
       " 'FEATURE_257',\n",
       " 'FEATURE_258',\n",
       " 'FEATURE_259',\n",
       " 'FEATURE_3',\n",
       " 'FEATURE_4',\n",
       " 'FEATURE_5',\n",
       " 'FEATURE_6'}"
      ]
     },
     "execution_count": 12,
     "metadata": {},
     "output_type": "execute_result"
    }
   ],
   "source": [
    "categorical_features = set()\n",
    "for feature in X.columns: \n",
    "    if len(df[feature].value_counts()) <= 5:\n",
    "        categorical_features.add(feature)\n",
    "categorical_features"
   ]
  },
  {
   "cell_type": "markdown",
   "id": "fc98b4cd-0360-40f2-a5c6-2ee9a20ef368",
   "metadata": {},
   "source": [
    "В итоге, все, что не относятся к категориальным характеристикам, будут **непрерывными**. Это числовые переменные, которые имеют бесконечное количество значений между любыми двумя значениями."
   ]
  },
  {
   "cell_type": "code",
   "execution_count": 13,
   "id": "4f4d3b70-dcfa-4c27-919f-73ea852e4761",
   "metadata": {
    "tags": []
   },
   "outputs": [],
   "source": [
    "numeric = [feature for feature in X.columns if feature not in categorical_features]"
   ]
  },
  {
   "cell_type": "code",
   "execution_count": 14,
   "id": "d2d1738e-8d50-44ce-8368-ea14dc942581",
   "metadata": {},
   "outputs": [
    {
     "data": {
      "text/html": [
       "<div>\n",
       "<style scoped>\n",
       "    .dataframe tbody tr th:only-of-type {\n",
       "        vertical-align: middle;\n",
       "    }\n",
       "\n",
       "    .dataframe tbody tr th {\n",
       "        vertical-align: top;\n",
       "    }\n",
       "\n",
       "    .dataframe thead th {\n",
       "        text-align: right;\n",
       "    }\n",
       "</style>\n",
       "<table border=\"1\" class=\"dataframe\">\n",
       "  <thead>\n",
       "    <tr style=\"text-align: right;\">\n",
       "      <th></th>\n",
       "      <th>FEATURE_0</th>\n",
       "      <th>FEATURE_1</th>\n",
       "      <th>FEATURE_2</th>\n",
       "      <th>FEATURE_3</th>\n",
       "      <th>FEATURE_4</th>\n",
       "      <th>FEATURE_5</th>\n",
       "      <th>FEATURE_6</th>\n",
       "      <th>FEATURE_7</th>\n",
       "      <th>FEATURE_8</th>\n",
       "      <th>FEATURE_9</th>\n",
       "      <th>...</th>\n",
       "      <th>FEATURE_250</th>\n",
       "      <th>FEATURE_251</th>\n",
       "      <th>FEATURE_252</th>\n",
       "      <th>FEATURE_253</th>\n",
       "      <th>FEATURE_254</th>\n",
       "      <th>FEATURE_255</th>\n",
       "      <th>FEATURE_256</th>\n",
       "      <th>FEATURE_257</th>\n",
       "      <th>FEATURE_258</th>\n",
       "      <th>FEATURE_259</th>\n",
       "    </tr>\n",
       "  </thead>\n",
       "  <tbody>\n",
       "    <tr>\n",
       "      <th>0</th>\n",
       "      <td>-0.236578</td>\n",
       "      <td>0.362558</td>\n",
       "      <td>0.0</td>\n",
       "      <td>0.0</td>\n",
       "      <td>0.0</td>\n",
       "      <td>0.0</td>\n",
       "      <td>0.0</td>\n",
       "      <td>-0.761066</td>\n",
       "      <td>-0.239948</td>\n",
       "      <td>-0.441814</td>\n",
       "      <td>...</td>\n",
       "      <td>-0.019594</td>\n",
       "      <td>-0.324956</td>\n",
       "      <td>-0.326223</td>\n",
       "      <td>-0.337286</td>\n",
       "      <td>1.0</td>\n",
       "      <td>1.0</td>\n",
       "      <td>0.0</td>\n",
       "      <td>1.0</td>\n",
       "      <td>2.0</td>\n",
       "      <td>2.0</td>\n",
       "    </tr>\n",
       "    <tr>\n",
       "      <th>1</th>\n",
       "      <td>-0.305387</td>\n",
       "      <td>-0.184975</td>\n",
       "      <td>0.0</td>\n",
       "      <td>0.0</td>\n",
       "      <td>1.0</td>\n",
       "      <td>0.0</td>\n",
       "      <td>0.0</td>\n",
       "      <td>0.970638</td>\n",
       "      <td>-0.225349</td>\n",
       "      <td>3.016128</td>\n",
       "      <td>...</td>\n",
       "      <td>-0.152930</td>\n",
       "      <td>0.430685</td>\n",
       "      <td>0.661581</td>\n",
       "      <td>0.581776</td>\n",
       "      <td>0.0</td>\n",
       "      <td>1.0</td>\n",
       "      <td>0.0</td>\n",
       "      <td>1.0</td>\n",
       "      <td>1.0</td>\n",
       "      <td>1.0</td>\n",
       "    </tr>\n",
       "    <tr>\n",
       "      <th>2</th>\n",
       "      <td>-0.374195</td>\n",
       "      <td>-0.732507</td>\n",
       "      <td>0.0</td>\n",
       "      <td>0.0</td>\n",
       "      <td>0.0</td>\n",
       "      <td>0.0</td>\n",
       "      <td>0.0</td>\n",
       "      <td>-0.246822</td>\n",
       "      <td>-0.231014</td>\n",
       "      <td>-0.441814</td>\n",
       "      <td>...</td>\n",
       "      <td>0.742325</td>\n",
       "      <td>-0.343847</td>\n",
       "      <td>0.171148</td>\n",
       "      <td>0.447252</td>\n",
       "      <td>1.0</td>\n",
       "      <td>1.0</td>\n",
       "      <td>0.0</td>\n",
       "      <td>1.0</td>\n",
       "      <td>1.0</td>\n",
       "      <td>1.0</td>\n",
       "    </tr>\n",
       "    <tr>\n",
       "      <th>3</th>\n",
       "      <td>-0.305387</td>\n",
       "      <td>-0.184975</td>\n",
       "      <td>0.0</td>\n",
       "      <td>0.0</td>\n",
       "      <td>0.0</td>\n",
       "      <td>0.0</td>\n",
       "      <td>0.0</td>\n",
       "      <td>-0.222683</td>\n",
       "      <td>-0.194267</td>\n",
       "      <td>-0.441814</td>\n",
       "      <td>...</td>\n",
       "      <td>-0.381506</td>\n",
       "      <td>-0.343847</td>\n",
       "      <td>0.395503</td>\n",
       "      <td>0.038866</td>\n",
       "      <td>1.0</td>\n",
       "      <td>0.0</td>\n",
       "      <td>0.0</td>\n",
       "      <td>1.0</td>\n",
       "      <td>2.0</td>\n",
       "      <td>2.0</td>\n",
       "    </tr>\n",
       "    <tr>\n",
       "      <th>4</th>\n",
       "      <td>-0.098960</td>\n",
       "      <td>0.910091</td>\n",
       "      <td>1.0</td>\n",
       "      <td>0.0</td>\n",
       "      <td>1.0</td>\n",
       "      <td>0.0</td>\n",
       "      <td>0.0</td>\n",
       "      <td>2.326509</td>\n",
       "      <td>-0.225349</td>\n",
       "      <td>3.016128</td>\n",
       "      <td>...</td>\n",
       "      <td>-0.191026</td>\n",
       "      <td>-0.343847</td>\n",
       "      <td>0.505823</td>\n",
       "      <td>0.194698</td>\n",
       "      <td>1.0</td>\n",
       "      <td>1.0</td>\n",
       "      <td>0.0</td>\n",
       "      <td>1.0</td>\n",
       "      <td>1.0</td>\n",
       "      <td>1.0</td>\n",
       "    </tr>\n",
       "  </tbody>\n",
       "</table>\n",
       "<p>5 rows × 260 columns</p>\n",
       "</div>"
      ],
      "text/plain": [
       "   FEATURE_0  FEATURE_1  FEATURE_2  FEATURE_3  FEATURE_4  FEATURE_5  \\\n",
       "0  -0.236578   0.362558        0.0        0.0        0.0        0.0   \n",
       "1  -0.305387  -0.184975        0.0        0.0        1.0        0.0   \n",
       "2  -0.374195  -0.732507        0.0        0.0        0.0        0.0   \n",
       "3  -0.305387  -0.184975        0.0        0.0        0.0        0.0   \n",
       "4  -0.098960   0.910091        1.0        0.0        1.0        0.0   \n",
       "\n",
       "   FEATURE_6  FEATURE_7  FEATURE_8  FEATURE_9  ...  FEATURE_250  FEATURE_251  \\\n",
       "0        0.0  -0.761066  -0.239948  -0.441814  ...    -0.019594    -0.324956   \n",
       "1        0.0   0.970638  -0.225349   3.016128  ...    -0.152930     0.430685   \n",
       "2        0.0  -0.246822  -0.231014  -0.441814  ...     0.742325    -0.343847   \n",
       "3        0.0  -0.222683  -0.194267  -0.441814  ...    -0.381506    -0.343847   \n",
       "4        0.0   2.326509  -0.225349   3.016128  ...    -0.191026    -0.343847   \n",
       "\n",
       "   FEATURE_252  FEATURE_253  FEATURE_254  FEATURE_255  FEATURE_256  \\\n",
       "0    -0.326223    -0.337286          1.0          1.0          0.0   \n",
       "1     0.661581     0.581776          0.0          1.0          0.0   \n",
       "2     0.171148     0.447252          1.0          1.0          0.0   \n",
       "3     0.395503     0.038866          1.0          0.0          0.0   \n",
       "4     0.505823     0.194698          1.0          1.0          0.0   \n",
       "\n",
       "   FEATURE_257  FEATURE_258  FEATURE_259  \n",
       "0          1.0          2.0          2.0  \n",
       "1          1.0          1.0          1.0  \n",
       "2          1.0          1.0          1.0  \n",
       "3          1.0          2.0          2.0  \n",
       "4          1.0          1.0          1.0  \n",
       "\n",
       "[5 rows x 260 columns]"
      ]
     },
     "execution_count": 14,
     "metadata": {},
     "output_type": "execute_result"
    }
   ],
   "source": [
    "X[numeric] = preprocessing.StandardScaler().fit(X[numeric]).transform(X[numeric].astype(float))\n",
    "X[0:5]"
   ]
  },
  {
   "cell_type": "markdown",
   "id": "7b344871-2394-48ff-b04e-58ab9a361510",
   "metadata": {},
   "source": [
    "Часто бывает так, что два признака, которые предназначались для измерения различных характеристик, находятся под влиянием какого-то общего механизма и имеют тенденцию изменяться вместе. Например, периметр и максимальная ширина фигуры будут варьироваться в зависимости от масштаба; большие фигуры будут иметь как большие периметры, так и большую максимальную ширину.\n",
    "\n",
    "Это ухудшает производительность классификатора."
   ]
  },
  {
   "cell_type": "code",
   "execution_count": 13,
   "id": "04ee8c2c-4782-40fe-b1a7-f178d4679fae",
   "metadata": {},
   "outputs": [
    {
     "data": {
      "text/plain": [
       "<AxesSubplot:>"
      ]
     },
     "execution_count": 13,
     "metadata": {},
     "output_type": "execute_result"
    },
    {
     "data": {
      "image/png": "[encoded data removed]",
      "text/plain": [
       "<Figure size 432x288 with 2 Axes>"
      ]
     },
     "metadata": {
      "needs_background": "light"
     },
     "output_type": "display_data"
    }
   ],
   "source": [
    "sns.heatmap(X.corr().abs())"
   ]
  },
  {
   "cell_type": "code",
   "execution_count": 20,
   "id": "da4488e4-6f01-4eaa-8580-7b1ff31d56aa",
   "metadata": {},
   "outputs": [],
   "source": [
    "def drop_correlated(df: pd.DataFrame, threshold=0.9):\n",
    "    corr = df.corr().abs()\n",
    "    mask = np.ones(corr.shape)\n",
    "    triangular_mask = np.triu(mask, k=1).astype(np.bool)\n",
    "    upper_triu = corr.where(triangular_mask)\n",
    "    to_drop = [column for column in upper_triu.columns \\\n",
    "               if any(upper_triu[column] > threshold)]\n",
    "    return df.drop(df[to_drop], axis=1)"
   ]
  },
  {
   "cell_type": "markdown",
   "id": "8323b4d3-55a0-43fb-bd38-bec60696bb3f",
   "metadata": {},
   "source": [
    "Попробуем обучить на данных, не убирая коррелирующие фичи."
   ]
  },
  {
   "cell_type": "code",
   "execution_count": 21,
   "id": "68cf0112-1387-4147-b09b-894d41f12f25",
   "metadata": {},
   "outputs": [],
   "source": [
    "X_train, X_test, y_train, y_test = train_test_split(X, y, test_size=0.33, stratify=y, random_state=42)"
   ]
  },
  {
   "cell_type": "code",
   "execution_count": 22,
   "id": "802f710f-a9a8-4f20-bc14-496771615621",
   "metadata": {},
   "outputs": [
    {
     "data": {
      "text/plain": [
       "((8092, 260), (8092,))"
      ]
     },
     "execution_count": 22,
     "metadata": {},
     "output_type": "execute_result"
    }
   ],
   "source": [
    "X_test.shape, y_test.shape"
   ]
  },
  {
   "cell_type": "markdown",
   "id": "4ec5271e-c90e-4b12-8fcb-7b5635101894",
   "metadata": {},
   "source": [
    "Попробуем оценить работу разных классификаторов: для этого воспользуемся кросс-валидацией на KFold."
   ]
  },
  {
   "cell_type": "code",
   "execution_count": 24,
   "id": "9cafa9b8-4ad1-4d4f-8ca5-b5a3bc289b62",
   "metadata": {},
   "outputs": [],
   "source": [
    "from sklearn.neighbors import KNeighborsClassifier\n",
    "from sklearn.svm import SVC\n",
    "from sklearn.neural_network import MLPClassifier\n",
    "from sklearn.ensemble import RandomForestClassifier\n",
    "from sklearn.linear_model import LogisticRegression\n",
    "from xgboost import XGBClassifier"
   ]
  },
  {
   "cell_type": "code",
   "execution_count": 25,
   "id": "f5494d2c-8a59-4bdf-a027-ff60c6d62558",
   "metadata": {},
   "outputs": [],
   "source": [
    "models = {\n",
    "    \"KNN\": KNeighborsClassifier(), \n",
    "    \"SVM\": SVC(), \n",
    "    \"Multi-layer Perceptron classifier\": MLPClassifier(), \n",
    "    \"RandomForestClassifier\": RandomForestClassifier(),\n",
    "    \"LogisticRegression\": LogisticRegression(), \n",
    "    \"XGBClassifier\": XGBClassifier(),\n",
    "}"
   ]
  },
  {
   "cell_type": "code",
   "execution_count": 26,
   "id": "bbab87e5-13a0-44aa-841e-776027352643",
   "metadata": {},
   "outputs": [
    {
     "name": "stdout",
     "output_type": "stream",
     "text": [
      "Model - KNN: F1(macro) - 0.371435597459337, Lift - 1.2948415402580735\n",
      "Model - SVM: F1(macro) - 0.35886450721762014, Lift - 2.2902326243407014\n",
      "Model - Multi-layer Perceptron classifier: F1(macro) - 0.4523033992866455, Lift - 1.3104949854843897\n",
      "Model - RandomForestClassifier: F1(macro) - 0.3898306665483779, Lift - 1.5685407255783081\n",
      "Model - LogisticRegression: F1(macro) - 0.4399018958881861, Lift - 1.8765419512255306\n",
      "[02:47:50] WARNING: /tmp/build/80754af9/xgboost-split_1619724447847/work/src/learner.cc:1061: Starting in XGBoost 1.3.0, the default evaluation metric used with the objective 'multi:softprob' was changed from 'merror' to 'mlogloss'. Explicitly set eval_metric if you'd like to restore the old behavior.\n",
      "[02:48:40] WARNING: /tmp/build/80754af9/xgboost-split_1619724447847/work/src/learner.cc:1061: Starting in XGBoost 1.3.0, the default evaluation metric used with the objective 'multi:softprob' was changed from 'merror' to 'mlogloss'. Explicitly set eval_metric if you'd like to restore the old behavior.\n",
      "[02:49:32] WARNING: /tmp/build/80754af9/xgboost-split_1619724447847/work/src/learner.cc:1061: Starting in XGBoost 1.3.0, the default evaluation metric used with the objective 'multi:softprob' was changed from 'merror' to 'mlogloss'. Explicitly set eval_metric if you'd like to restore the old behavior.\n",
      "[02:50:23] WARNING: /tmp/build/80754af9/xgboost-split_1619724447847/work/src/learner.cc:1061: Starting in XGBoost 1.3.0, the default evaluation metric used with the objective 'multi:softprob' was changed from 'merror' to 'mlogloss'. Explicitly set eval_metric if you'd like to restore the old behavior.\n",
      "[02:51:15] WARNING: /tmp/build/80754af9/xgboost-split_1619724447847/work/src/learner.cc:1061: Starting in XGBoost 1.3.0, the default evaluation metric used with the objective 'multi:softprob' was changed from 'merror' to 'mlogloss'. Explicitly set eval_metric if you'd like to restore the old behavior.\n",
      "[02:52:06] WARNING: /tmp/build/80754af9/xgboost-split_1619724447847/work/src/learner.cc:1061: Starting in XGBoost 1.3.0, the default evaluation metric used with the objective 'multi:softprob' was changed from 'merror' to 'mlogloss'. Explicitly set eval_metric if you'd like to restore the old behavior.\n",
      "Model - XGBClassifier: F1(macro) - 0.4735232604713748, Lift - 1.8101292803279954\n"
     ]
    }
   ],
   "source": [
    "for name, model in models.items():\n",
    "    print_scores(name, model, X, y)"
   ]
  },
  {
   "cell_type": "markdown",
   "id": "9686fdab-73a3-4c15-8faa-fd764976a4c3",
   "metadata": {},
   "source": [
    "## Выбираем threshold"
   ]
  },
  {
   "cell_type": "markdown",
   "id": "e478bf64-4eb1-401b-be70-439306d99a9f",
   "metadata": {},
   "source": [
    "Выбираем threshold - определяет, какая может быть максимальная корреляция между двумя характеристиками: возьму простую модель, чтобы оценить лучшее значение."
   ]
  },
  {
   "cell_type": "code",
   "execution_count": 45,
   "id": "36586ce7-9580-44b7-9390-554defee5baa",
   "metadata": {},
   "outputs": [
    {
     "name": "stdout",
     "output_type": "stream",
     "text": [
      "Test set F1 for threshold - 0.1: 0.277818259311895\n",
      "Test set F1 for threshold - 0.2: 0.2774252560816206\n",
      "Test set F1 for threshold - 0.30000000000000004: 0.27972416208177014\n",
      "Test set F1 for threshold - 0.4: 0.29842312531704035\n",
      "Test set F1 for threshold - 0.5: 0.36939772422003\n",
      "Test set F1 for threshold - 0.6: 0.3749808253576124\n",
      "Test set F1 for threshold - 0.7000000000000001: 0.3922929945267952\n",
      "Test set F1 for threshold - 0.8: 0.4012474273283417\n",
      "Test set F1 for threshold - 0.9: 0.4100674607537633\n",
      "Test set F1 for threshold - 1.0: 0.4155604902741102\n"
     ]
    }
   ],
   "source": [
    "from sklearn.linear_model import LogisticRegression\n",
    "from sklearn import metrics\n",
    "\n",
    "for trashold in np.linspace(0.1, 1., num=10):\n",
    "    cleaned = drop_correlated(X, threshold=trashold)\n",
    "    X_train, X_test, y_train, y_test = train_test_split(cleaned, y, test_size=0.33, stratify=y, random_state=42)\n",
    "    LR = LogisticRegression(C=0.01, solver='liblinear').fit(X_train,y_train)\n",
    "    yhat = LR.predict(X_test)\n",
    "    print(f\"Test set F1 for threshold - {trashold}: {metrics.f1_score(y_test, yhat, average='macro')}\")"
   ]
  },
  {
   "cell_type": "code",
   "execution_count": 46,
   "id": "c898b6b9-1ecc-4b18-b3be-bb8a96967a1e",
   "metadata": {},
   "outputs": [],
   "source": [
    "cleaned = drop_correlated(X, threshold=0.9)"
   ]
  },
  {
   "cell_type": "code",
   "execution_count": 47,
   "id": "2fdf14c3-7f66-4548-8d72-454e7fc97868",
   "metadata": {},
   "outputs": [
    {
     "data": {
      "text/plain": [
       "<AxesSubplot:>"
      ]
     },
     "execution_count": 47,
     "metadata": {},
     "output_type": "execute_result"
    },
    {
     "data": {
      "image/png": "[encoded data removed]",
      "text/plain": [
       "<Figure size 432x288 with 2 Axes>"
      ]
     },
     "metadata": {
      "needs_background": "light"
     },
     "output_type": "display_data"
    }
   ],
   "source": [
    "sns.heatmap(cleaned.corr().abs())"
   ]
  },
  {
   "cell_type": "code",
   "execution_count": 48,
   "id": "beeadf2f-6264-4b1c-877b-2afe2b2449e6",
   "metadata": {},
   "outputs": [],
   "source": [
    "X = cleaned"
   ]
  },
  {
   "cell_type": "code",
   "execution_count": 49,
   "id": "1c22c68d-338d-484d-8e16-204da8d8afea",
   "metadata": {},
   "outputs": [
    {
     "data": {
      "text/plain": [
       "(24521, 217)"
      ]
     },
     "execution_count": 49,
     "metadata": {},
     "output_type": "execute_result"
    }
   ],
   "source": [
    "X.shape"
   ]
  },
  {
   "cell_type": "markdown",
   "id": "32d1b25f-a6ca-414f-9c9c-091e164a1d15",
   "metadata": {},
   "source": [
    "## Разделение на тренировочную и тестовую выборки"
   ]
  },
  {
   "cell_type": "markdown",
   "id": "749b351d-9854-44be-a2ea-c2e8339db5be",
   "metadata": {},
   "source": [
    "**Точность вне выборки** - это процент правильных прогнозов, которые модель делает на основе данных, на которых НЕ была обучена модель. Выполнение обучения и тестирования одного и того же набора данных, скорее всего, будет иметь низкую точность вне выборки из-за вероятности чрезмерного соответствия.\n",
    "\n",
    "Важно, чтобы наши модели имели высокую точность вне выборки, потому что цель любой модели, конечно, состоит в том, чтобы делать правильные прогнозы на неизвестных данных. Итак, как мы можем улучшить точность вне выборки? Один из способов - использовать метод оценки, называемый разделением «Тренировочная / тестовая». Разделение на обучение / тестирование включает в себя разделение набора данных на обучающий и тестовый наборы соответственно, которые являются взаимоисключающими. После этого вы тренируетесь с обучающим набором и тестируете с помощью набора для тестирования.\n",
    "\n",
    "Это обеспечит более точную оценку точности вне выборки, поскольку набор данных тестирования не является частью набора данных, который использовался для обучения данных. Это более реалистично для реальных проблем."
   ]
  },
  {
   "cell_type": "code",
   "execution_count": 15,
   "id": "1295220a-f0f0-4008-b5ed-5a25be485459",
   "metadata": {},
   "outputs": [],
   "source": [
    "X_train, X_test, y_train, y_test = train_test_split(X, y, test_size=0.33, stratify=y, random_state=42)"
   ]
  },
  {
   "cell_type": "code",
   "execution_count": 16,
   "id": "588ea299-3e0a-4934-9afc-8c71b4822e97",
   "metadata": {},
   "outputs": [
    {
     "data": {
      "text/plain": [
       "((8092, 260), (8092,))"
      ]
     },
     "execution_count": 16,
     "metadata": {},
     "output_type": "execute_result"
    }
   ],
   "source": [
    "X_test.shape, y_test.shape"
   ]
  },
  {
   "cell_type": "markdown",
   "id": "9d767320-7f8c-48ed-b259-e0093716797d",
   "metadata": {},
   "source": [
    "## Классификация"
   ]
  },
  {
   "cell_type": "code",
   "execution_count": null,
   "id": "89a211ba-fcd7-4ae9-aaf6-82b054710941",
   "metadata": {},
   "outputs": [],
   "source": [
    "Попробуем оценить работу разных классификаторов: для этого воспользуемся кросс-валидацией на KFold."
   ]
  },
  {
   "cell_type": "code",
   "execution_count": null,
   "id": "78b30ea2-526c-4ddc-9587-0e2a24fdf448",
   "metadata": {},
   "outputs": [],
   "source": [
    "from sklearn.neighbors import KNeighborsClassifier\n",
    "from sklearn.svm import SVC\n",
    "from sklearn.neural_network import MLPClassifier\n",
    "from sklearn.ensemble import RandomForestClassifier\n",
    "from sklearn.linear_model import LogisticRegression\n",
    "from xgboost import XGBClassifier"
   ]
  },
  {
   "cell_type": "code",
   "execution_count": null,
   "id": "7ad0dd1f-e290-4c9d-92cf-98284b1662c5",
   "metadata": {},
   "outputs": [],
   "source": [
    "models = {\n",
    "    \"KNN\": KNeighborsClassifier(), \n",
    "    \"SVM\": SVC(), \n",
    "    \"Multi-layer Perceptron classifier\": MLPClassifier(), \n",
    "    \"RandomForestClassifier\": RandomForestClassifier(),\n",
    "    \"LogisticRegression\": LogisticRegression(), \n",
    "    \"XGBClassifier\": XGBClassifier(),\n",
    "}"
   ]
  },
  {
   "cell_type": "code",
   "execution_count": 80,
   "id": "fe9bd54d-cb87-44e6-8579-a050da3adc0a",
   "metadata": {},
   "outputs": [
    {
     "name": "stdout",
     "output_type": "stream",
     "text": [
      "Model - KNN: F1(macro) - 0.3695389287507235, Lift - 1.214369586085467\n",
      "Model - SVM: F1(macro) - 0.3550094486927413, Lift - 2.4350076863314913\n",
      "Model - Multi-layer Perceptron classifier: F1(macro) - 0.4584189833328307, Lift - 1.3134675605008879\n",
      "Model - RandomForestClassifier: F1(macro) - 0.37926823500010126, Lift - 1.738526462717978\n",
      "Model - LogisticRegression: F1(macro) - 0.43531464056259117, Lift - 1.9567868178388792\n",
      "[19:49:34] WARNING: /tmp/build/80754af9/xgboost-split_1619724447847/work/src/learner.cc:1061: Starting in XGBoost 1.3.0, the default evaluation metric used with the objective 'multi:softprob' was changed from 'merror' to 'mlogloss'. Explicitly set eval_metric if you'd like to restore the old behavior.\n",
      "[19:50:15] WARNING: /tmp/build/80754af9/xgboost-split_1619724447847/work/src/learner.cc:1061: Starting in XGBoost 1.3.0, the default evaluation metric used with the objective 'multi:softprob' was changed from 'merror' to 'mlogloss'. Explicitly set eval_metric if you'd like to restore the old behavior.\n",
      "[19:50:57] WARNING: /tmp/build/80754af9/xgboost-split_1619724447847/work/src/learner.cc:1061: Starting in XGBoost 1.3.0, the default evaluation metric used with the objective 'multi:softprob' was changed from 'merror' to 'mlogloss'. Explicitly set eval_metric if you'd like to restore the old behavior.\n",
      "[19:51:40] WARNING: /tmp/build/80754af9/xgboost-split_1619724447847/work/src/learner.cc:1061: Starting in XGBoost 1.3.0, the default evaluation metric used with the objective 'multi:softprob' was changed from 'merror' to 'mlogloss'. Explicitly set eval_metric if you'd like to restore the old behavior.\n",
      "[19:52:22] WARNING: /tmp/build/80754af9/xgboost-split_1619724447847/work/src/learner.cc:1061: Starting in XGBoost 1.3.0, the default evaluation metric used with the objective 'multi:softprob' was changed from 'merror' to 'mlogloss'. Explicitly set eval_metric if you'd like to restore the old behavior.\n",
      "[19:53:04] WARNING: /tmp/build/80754af9/xgboost-split_1619724447847/work/src/learner.cc:1061: Starting in XGBoost 1.3.0, the default evaluation metric used with the objective 'multi:softprob' was changed from 'merror' to 'mlogloss'. Explicitly set eval_metric if you'd like to restore the old behavior.\n",
      "Model - XGBClassifier: F1(macro) - 0.4710426653764586, Lift - 1.8082063926957632\n"
     ]
    }
   ],
   "source": [
    "for name, model in models.items():\n",
    "    print_scores(name, model, X, y)"
   ]
  },
  {
   "cell_type": "markdown",
   "id": "4b1e6fb3-f63a-4d2a-9c8a-6ff356892f8b",
   "metadata": {},
   "source": [
    "Как видим, наилучшие результаты дает XGBClassifier: F1(macro) - 0.4710426653764586, Lift - 1.8082063926957632. Обучим эту модель на данных для обучения. Результаты остались такими же, как если бы я не удалял коррелирующие характеристики."
   ]
  },
  {
   "cell_type": "markdown",
   "id": "06431670-fb5d-4bee-bd00-39261e47fe96",
   "metadata": {},
   "source": [
    "## XGBClassifier"
   ]
  },
  {
   "cell_type": "markdown",
   "id": "412345b9-9878-4b11-b7a6-92c007ba72e1",
   "metadata": {},
   "source": [
    "Обучим модель и дальше будем использовать её для `contest_test.csv`"
   ]
  },
  {
   "cell_type": "code",
   "execution_count": 21,
   "id": "15a532fa-21c9-49ea-ae3a-ad1a0c793404",
   "metadata": {},
   "outputs": [],
   "source": [
    "model = XGBClassifier()"
   ]
  },
  {
   "cell_type": "code",
   "execution_count": 22,
   "id": "42ff151c-ec07-4a1b-908e-3323e8041a6d",
   "metadata": {},
   "outputs": [
    {
     "data": {
      "text/plain": [
       "(16429, 260)"
      ]
     },
     "execution_count": 22,
     "metadata": {},
     "output_type": "execute_result"
    }
   ],
   "source": [
    "X_train.shape"
   ]
  },
  {
   "cell_type": "code",
   "execution_count": 23,
   "id": "53c9b918-b6dd-4b9a-8a65-7f067ce3e404",
   "metadata": {},
   "outputs": [
    {
     "name": "stdout",
     "output_type": "stream",
     "text": [
      "[21:22:26] WARNING: /tmp/build/80754af9/xgboost-split_1619724447847/work/src/learner.cc:1061: Starting in XGBoost 1.3.0, the default evaluation metric used with the objective 'multi:softprob' was changed from 'merror' to 'mlogloss'. Explicitly set eval_metric if you'd like to restore the old behavior.\n"
     ]
    },
    {
     "data": {
      "text/plain": [
       "XGBClassifier(base_score=0.5, booster='gbtree', colsample_bylevel=1,\n",
       "              colsample_bynode=1, colsample_bytree=1, gamma=0, gpu_id=-1,\n",
       "              importance_type='gain', interaction_constraints='',\n",
       "              learning_rate=0.300000012, max_delta_step=0, max_depth=6,\n",
       "              min_child_weight=1, missing=nan, monotone_constraints='()',\n",
       "              n_estimators=100, n_jobs=8, num_parallel_tree=1,\n",
       "              objective='multi:softprob', random_state=0, reg_alpha=0,\n",
       "              reg_lambda=1, scale_pos_weight=None, subsample=1,\n",
       "              tree_method='exact', validate_parameters=1, verbosity=None)"
      ]
     },
     "execution_count": 23,
     "metadata": {},
     "output_type": "execute_result"
    }
   ],
   "source": [
    "model.fit(X_train, y_train)"
   ]
  },
  {
   "cell_type": "code",
   "execution_count": 24,
   "id": "5d18c54d-d639-4060-a52e-89c19e33dc16",
   "metadata": {},
   "outputs": [],
   "source": [
    "yhat = model.predict(X_test)"
   ]
  },
  {
   "cell_type": "code",
   "execution_count": 26,
   "id": "7844e229-9498-491a-af00-cce78cee869d",
   "metadata": {},
   "outputs": [
    {
     "name": "stdout",
     "output_type": "stream",
     "text": [
      "Test set F1:  0.4628775953167339\n"
     ]
    }
   ],
   "source": [
    "print(\"Test set F1: \", f1_score(y_test, yhat, average='macro'))"
   ]
  },
  {
   "cell_type": "markdown",
   "id": "9d27aa8e-f56b-40f2-b1a3-f8221f4fc907",
   "metadata": {},
   "source": [
    "## Загружаем тест и выводим результаты на лучшей модели"
   ]
  },
  {
   "cell_type": "code",
   "execution_count": 27,
   "id": "47307d5f-5598-498b-9f6a-afc3f6365a0d",
   "metadata": {},
   "outputs": [
    {
     "data": {
      "text/html": [
       "<div>\n",
       "<style scoped>\n",
       "    .dataframe tbody tr th:only-of-type {\n",
       "        vertical-align: middle;\n",
       "    }\n",
       "\n",
       "    .dataframe tbody tr th {\n",
       "        vertical-align: top;\n",
       "    }\n",
       "\n",
       "    .dataframe thead th {\n",
       "        text-align: right;\n",
       "    }\n",
       "</style>\n",
       "<table border=\"1\" class=\"dataframe\">\n",
       "  <thead>\n",
       "    <tr style=\"text-align: right;\">\n",
       "      <th></th>\n",
       "      <th>ID</th>\n",
       "      <th>FEATURE_0</th>\n",
       "      <th>FEATURE_1</th>\n",
       "      <th>FEATURE_2</th>\n",
       "      <th>FEATURE_3</th>\n",
       "      <th>FEATURE_4</th>\n",
       "      <th>FEATURE_5</th>\n",
       "      <th>FEATURE_6</th>\n",
       "      <th>FEATURE_7</th>\n",
       "      <th>FEATURE_8</th>\n",
       "      <th>...</th>\n",
       "      <th>FEATURE_250</th>\n",
       "      <th>FEATURE_251</th>\n",
       "      <th>FEATURE_252</th>\n",
       "      <th>FEATURE_253</th>\n",
       "      <th>FEATURE_254</th>\n",
       "      <th>FEATURE_255</th>\n",
       "      <th>FEATURE_256</th>\n",
       "      <th>FEATURE_257</th>\n",
       "      <th>FEATURE_258</th>\n",
       "      <th>FEATURE_259</th>\n",
       "    </tr>\n",
       "  </thead>\n",
       "  <tbody>\n",
       "    <tr>\n",
       "      <th>0</th>\n",
       "      <td>1154270440</td>\n",
       "      <td>1.0</td>\n",
       "      <td>1.0</td>\n",
       "      <td>0.0</td>\n",
       "      <td>0.0</td>\n",
       "      <td>0.0</td>\n",
       "      <td>0.0</td>\n",
       "      <td>0.0</td>\n",
       "      <td>-46.950807</td>\n",
       "      <td>-45.018511</td>\n",
       "      <td>...</td>\n",
       "      <td>0.0</td>\n",
       "      <td>0.0</td>\n",
       "      <td>190.587701</td>\n",
       "      <td>162.047775</td>\n",
       "      <td>1.0</td>\n",
       "      <td>0.0</td>\n",
       "      <td>1.0</td>\n",
       "      <td>1.0</td>\n",
       "      <td>1.0</td>\n",
       "      <td>1.0</td>\n",
       "    </tr>\n",
       "    <tr>\n",
       "      <th>1</th>\n",
       "      <td>1147987574</td>\n",
       "      <td>0.0</td>\n",
       "      <td>0.0</td>\n",
       "      <td>1.0</td>\n",
       "      <td>0.0</td>\n",
       "      <td>0.0</td>\n",
       "      <td>0.0</td>\n",
       "      <td>0.0</td>\n",
       "      <td>343.627489</td>\n",
       "      <td>NaN</td>\n",
       "      <td>...</td>\n",
       "      <td>5.0</td>\n",
       "      <td>109.0</td>\n",
       "      <td>594.572663</td>\n",
       "      <td>685.500149</td>\n",
       "      <td>1.0</td>\n",
       "      <td>1.0</td>\n",
       "      <td>0.0</td>\n",
       "      <td>1.0</td>\n",
       "      <td>1.0</td>\n",
       "      <td>2.0</td>\n",
       "    </tr>\n",
       "    <tr>\n",
       "      <th>2</th>\n",
       "      <td>1129622364</td>\n",
       "      <td>0.0</td>\n",
       "      <td>0.0</td>\n",
       "      <td>0.0</td>\n",
       "      <td>0.0</td>\n",
       "      <td>1.0</td>\n",
       "      <td>0.0</td>\n",
       "      <td>0.0</td>\n",
       "      <td>909.178045</td>\n",
       "      <td>3260.445427</td>\n",
       "      <td>...</td>\n",
       "      <td>0.0</td>\n",
       "      <td>297.0</td>\n",
       "      <td>10.214396</td>\n",
       "      <td>300.397949</td>\n",
       "      <td>0.0</td>\n",
       "      <td>0.0</td>\n",
       "      <td>0.0</td>\n",
       "      <td>1.0</td>\n",
       "      <td>1.0</td>\n",
       "      <td>1.0</td>\n",
       "    </tr>\n",
       "    <tr>\n",
       "      <th>3</th>\n",
       "      <td>619797496</td>\n",
       "      <td>6.0</td>\n",
       "      <td>2.0</td>\n",
       "      <td>0.0</td>\n",
       "      <td>0.0</td>\n",
       "      <td>0.0</td>\n",
       "      <td>0.0</td>\n",
       "      <td>0.0</td>\n",
       "      <td>-4.499021</td>\n",
       "      <td>-93.374738</td>\n",
       "      <td>...</td>\n",
       "      <td>1.0</td>\n",
       "      <td>2.0</td>\n",
       "      <td>334.873280</td>\n",
       "      <td>363.739214</td>\n",
       "      <td>1.0</td>\n",
       "      <td>1.0</td>\n",
       "      <td>1.0</td>\n",
       "      <td>2.0</td>\n",
       "      <td>2.0</td>\n",
       "      <td>1.0</td>\n",
       "    </tr>\n",
       "    <tr>\n",
       "      <th>4</th>\n",
       "      <td>7391484886</td>\n",
       "      <td>1.0</td>\n",
       "      <td>1.0</td>\n",
       "      <td>0.0</td>\n",
       "      <td>0.0</td>\n",
       "      <td>0.0</td>\n",
       "      <td>0.0</td>\n",
       "      <td>0.0</td>\n",
       "      <td>-23.189787</td>\n",
       "      <td>-35.810318</td>\n",
       "      <td>...</td>\n",
       "      <td>83.0</td>\n",
       "      <td>136.0</td>\n",
       "      <td>551.413748</td>\n",
       "      <td>769.830050</td>\n",
       "      <td>1.0</td>\n",
       "      <td>1.0</td>\n",
       "      <td>0.0</td>\n",
       "      <td>1.0</td>\n",
       "      <td>1.0</td>\n",
       "      <td>1.0</td>\n",
       "    </tr>\n",
       "  </tbody>\n",
       "</table>\n",
       "<p>5 rows × 261 columns</p>\n",
       "</div>"
      ],
      "text/plain": [
       "           ID  FEATURE_0  FEATURE_1  FEATURE_2  FEATURE_3  FEATURE_4  \\\n",
       "0  1154270440        1.0        1.0        0.0        0.0        0.0   \n",
       "1  1147987574        0.0        0.0        1.0        0.0        0.0   \n",
       "2  1129622364        0.0        0.0        0.0        0.0        1.0   \n",
       "3   619797496        6.0        2.0        0.0        0.0        0.0   \n",
       "4  7391484886        1.0        1.0        0.0        0.0        0.0   \n",
       "\n",
       "   FEATURE_5  FEATURE_6   FEATURE_7    FEATURE_8  ...  FEATURE_250  \\\n",
       "0        0.0        0.0  -46.950807   -45.018511  ...          0.0   \n",
       "1        0.0        0.0  343.627489          NaN  ...          5.0   \n",
       "2        0.0        0.0  909.178045  3260.445427  ...          0.0   \n",
       "3        0.0        0.0   -4.499021   -93.374738  ...          1.0   \n",
       "4        0.0        0.0  -23.189787   -35.810318  ...         83.0   \n",
       "\n",
       "   FEATURE_251  FEATURE_252  FEATURE_253  FEATURE_254  FEATURE_255  \\\n",
       "0          0.0   190.587701   162.047775          1.0          0.0   \n",
       "1        109.0   594.572663   685.500149          1.0          1.0   \n",
       "2        297.0    10.214396   300.397949          0.0          0.0   \n",
       "3          2.0   334.873280   363.739214          1.0          1.0   \n",
       "4        136.0   551.413748   769.830050          1.0          1.0   \n",
       "\n",
       "   FEATURE_256  FEATURE_257  FEATURE_258  FEATURE_259  \n",
       "0          1.0          1.0          1.0          1.0  \n",
       "1          0.0          1.0          1.0          2.0  \n",
       "2          0.0          1.0          1.0          1.0  \n",
       "3          1.0          2.0          2.0          1.0  \n",
       "4          0.0          1.0          1.0          1.0  \n",
       "\n",
       "[5 rows x 261 columns]"
      ]
     },
     "execution_count": 27,
     "metadata": {},
     "output_type": "execute_result"
    }
   ],
   "source": [
    "df_test = pd.read_csv (\"contest_test.csv\")\n",
    "df_test.head()"
   ]
  },
  {
   "cell_type": "code",
   "execution_count": 28,
   "id": "614764e6-4ebc-429b-9b18-cf2753c83d7d",
   "metadata": {},
   "outputs": [],
   "source": [
    "df_test = df_test.fillna(0.)"
   ]
  },
  {
   "cell_type": "code",
   "execution_count": 29,
   "id": "684794dc-d380-43c5-8710-7252719050ba",
   "metadata": {},
   "outputs": [
    {
     "data": {
      "text/html": [
       "<div>\n",
       "<style scoped>\n",
       "    .dataframe tbody tr th:only-of-type {\n",
       "        vertical-align: middle;\n",
       "    }\n",
       "\n",
       "    .dataframe tbody tr th {\n",
       "        vertical-align: top;\n",
       "    }\n",
       "\n",
       "    .dataframe thead th {\n",
       "        text-align: right;\n",
       "    }\n",
       "</style>\n",
       "<table border=\"1\" class=\"dataframe\">\n",
       "  <thead>\n",
       "    <tr style=\"text-align: right;\">\n",
       "      <th></th>\n",
       "      <th>FEATURE_0</th>\n",
       "      <th>FEATURE_1</th>\n",
       "      <th>FEATURE_2</th>\n",
       "      <th>FEATURE_3</th>\n",
       "      <th>FEATURE_4</th>\n",
       "      <th>FEATURE_5</th>\n",
       "      <th>FEATURE_6</th>\n",
       "      <th>FEATURE_7</th>\n",
       "      <th>FEATURE_8</th>\n",
       "      <th>FEATURE_9</th>\n",
       "      <th>...</th>\n",
       "      <th>FEATURE_250</th>\n",
       "      <th>FEATURE_251</th>\n",
       "      <th>FEATURE_252</th>\n",
       "      <th>FEATURE_253</th>\n",
       "      <th>FEATURE_254</th>\n",
       "      <th>FEATURE_255</th>\n",
       "      <th>FEATURE_256</th>\n",
       "      <th>FEATURE_257</th>\n",
       "      <th>FEATURE_258</th>\n",
       "      <th>FEATURE_259</th>\n",
       "    </tr>\n",
       "  </thead>\n",
       "  <tbody>\n",
       "    <tr>\n",
       "      <th>0</th>\n",
       "      <td>1.0</td>\n",
       "      <td>1.0</td>\n",
       "      <td>0.0</td>\n",
       "      <td>0.0</td>\n",
       "      <td>0.0</td>\n",
       "      <td>0.0</td>\n",
       "      <td>0.0</td>\n",
       "      <td>-46.950807</td>\n",
       "      <td>-45.018511</td>\n",
       "      <td>0.0</td>\n",
       "      <td>...</td>\n",
       "      <td>0.0</td>\n",
       "      <td>0.0</td>\n",
       "      <td>190.587701</td>\n",
       "      <td>162.047775</td>\n",
       "      <td>1.0</td>\n",
       "      <td>0.0</td>\n",
       "      <td>1.0</td>\n",
       "      <td>1.0</td>\n",
       "      <td>1.0</td>\n",
       "      <td>1.0</td>\n",
       "    </tr>\n",
       "    <tr>\n",
       "      <th>1</th>\n",
       "      <td>0.0</td>\n",
       "      <td>0.0</td>\n",
       "      <td>1.0</td>\n",
       "      <td>0.0</td>\n",
       "      <td>0.0</td>\n",
       "      <td>0.0</td>\n",
       "      <td>0.0</td>\n",
       "      <td>343.627489</td>\n",
       "      <td>0.000000</td>\n",
       "      <td>3.0</td>\n",
       "      <td>...</td>\n",
       "      <td>5.0</td>\n",
       "      <td>109.0</td>\n",
       "      <td>594.572663</td>\n",
       "      <td>685.500149</td>\n",
       "      <td>1.0</td>\n",
       "      <td>1.0</td>\n",
       "      <td>0.0</td>\n",
       "      <td>1.0</td>\n",
       "      <td>1.0</td>\n",
       "      <td>2.0</td>\n",
       "    </tr>\n",
       "    <tr>\n",
       "      <th>2</th>\n",
       "      <td>0.0</td>\n",
       "      <td>0.0</td>\n",
       "      <td>0.0</td>\n",
       "      <td>0.0</td>\n",
       "      <td>1.0</td>\n",
       "      <td>0.0</td>\n",
       "      <td>0.0</td>\n",
       "      <td>909.178045</td>\n",
       "      <td>3260.445427</td>\n",
       "      <td>3.0</td>\n",
       "      <td>...</td>\n",
       "      <td>0.0</td>\n",
       "      <td>297.0</td>\n",
       "      <td>10.214396</td>\n",
       "      <td>300.397949</td>\n",
       "      <td>0.0</td>\n",
       "      <td>0.0</td>\n",
       "      <td>0.0</td>\n",
       "      <td>1.0</td>\n",
       "      <td>1.0</td>\n",
       "      <td>1.0</td>\n",
       "    </tr>\n",
       "    <tr>\n",
       "      <th>3</th>\n",
       "      <td>6.0</td>\n",
       "      <td>2.0</td>\n",
       "      <td>0.0</td>\n",
       "      <td>0.0</td>\n",
       "      <td>0.0</td>\n",
       "      <td>0.0</td>\n",
       "      <td>0.0</td>\n",
       "      <td>-4.499021</td>\n",
       "      <td>-93.374738</td>\n",
       "      <td>0.0</td>\n",
       "      <td>...</td>\n",
       "      <td>1.0</td>\n",
       "      <td>2.0</td>\n",
       "      <td>334.873280</td>\n",
       "      <td>363.739214</td>\n",
       "      <td>1.0</td>\n",
       "      <td>1.0</td>\n",
       "      <td>1.0</td>\n",
       "      <td>2.0</td>\n",
       "      <td>2.0</td>\n",
       "      <td>1.0</td>\n",
       "    </tr>\n",
       "    <tr>\n",
       "      <th>4</th>\n",
       "      <td>1.0</td>\n",
       "      <td>1.0</td>\n",
       "      <td>0.0</td>\n",
       "      <td>0.0</td>\n",
       "      <td>0.0</td>\n",
       "      <td>0.0</td>\n",
       "      <td>0.0</td>\n",
       "      <td>-23.189787</td>\n",
       "      <td>-35.810318</td>\n",
       "      <td>0.0</td>\n",
       "      <td>...</td>\n",
       "      <td>83.0</td>\n",
       "      <td>136.0</td>\n",
       "      <td>551.413748</td>\n",
       "      <td>769.830050</td>\n",
       "      <td>1.0</td>\n",
       "      <td>1.0</td>\n",
       "      <td>0.0</td>\n",
       "      <td>1.0</td>\n",
       "      <td>1.0</td>\n",
       "      <td>1.0</td>\n",
       "    </tr>\n",
       "  </tbody>\n",
       "</table>\n",
       "<p>5 rows × 260 columns</p>\n",
       "</div>"
      ],
      "text/plain": [
       "   FEATURE_0  FEATURE_1  FEATURE_2  FEATURE_3  FEATURE_4  FEATURE_5  \\\n",
       "0        1.0        1.0        0.0        0.0        0.0        0.0   \n",
       "1        0.0        0.0        1.0        0.0        0.0        0.0   \n",
       "2        0.0        0.0        0.0        0.0        1.0        0.0   \n",
       "3        6.0        2.0        0.0        0.0        0.0        0.0   \n",
       "4        1.0        1.0        0.0        0.0        0.0        0.0   \n",
       "\n",
       "   FEATURE_6   FEATURE_7    FEATURE_8  FEATURE_9  ...  FEATURE_250  \\\n",
       "0        0.0  -46.950807   -45.018511        0.0  ...          0.0   \n",
       "1        0.0  343.627489     0.000000        3.0  ...          5.0   \n",
       "2        0.0  909.178045  3260.445427        3.0  ...          0.0   \n",
       "3        0.0   -4.499021   -93.374738        0.0  ...          1.0   \n",
       "4        0.0  -23.189787   -35.810318        0.0  ...         83.0   \n",
       "\n",
       "   FEATURE_251  FEATURE_252  FEATURE_253  FEATURE_254  FEATURE_255  \\\n",
       "0          0.0   190.587701   162.047775          1.0          0.0   \n",
       "1        109.0   594.572663   685.500149          1.0          1.0   \n",
       "2        297.0    10.214396   300.397949          0.0          0.0   \n",
       "3          2.0   334.873280   363.739214          1.0          1.0   \n",
       "4        136.0   551.413748   769.830050          1.0          1.0   \n",
       "\n",
       "   FEATURE_256  FEATURE_257  FEATURE_258  FEATURE_259  \n",
       "0          1.0          1.0          1.0          1.0  \n",
       "1          0.0          1.0          1.0          2.0  \n",
       "2          0.0          1.0          1.0          1.0  \n",
       "3          1.0          2.0          2.0          1.0  \n",
       "4          0.0          1.0          1.0          1.0  \n",
       "\n",
       "[5 rows x 260 columns]"
      ]
     },
     "execution_count": 29,
     "metadata": {},
     "output_type": "execute_result"
    }
   ],
   "source": [
    "X = df_test[df_test.columns[1:]]\n",
    "X.head()"
   ]
  },
  {
   "cell_type": "code",
   "execution_count": 30,
   "id": "cf334975-5cf4-4860-a36c-0b0130d59e71",
   "metadata": {},
   "outputs": [],
   "source": [
    "yhat = model.predict(X)"
   ]
  },
  {
   "cell_type": "markdown",
   "id": "9aef73a6-f2ff-4bc9-8f2c-90ff27626b95",
   "metadata": {},
   "source": [
    "Получаем `contest_answer.csv`"
   ]
  },
  {
   "cell_type": "code",
   "execution_count": 31,
   "id": "acf3d901-1809-44a6-8429-82a527a266af",
   "metadata": {},
   "outputs": [
    {
     "data": {
      "text/plain": [
       "(9484, 260)"
      ]
     },
     "execution_count": 31,
     "metadata": {},
     "output_type": "execute_result"
    }
   ],
   "source": [
    "X.shape"
   ]
  },
  {
   "cell_type": "code",
   "execution_count": 32,
   "id": "da5d9acc-2dcd-433a-bbc7-ec62769be565",
   "metadata": {},
   "outputs": [
    {
     "data": {
      "text/html": [
       "<div>\n",
       "<style scoped>\n",
       "    .dataframe tbody tr th:only-of-type {\n",
       "        vertical-align: middle;\n",
       "    }\n",
       "\n",
       "    .dataframe tbody tr th {\n",
       "        vertical-align: top;\n",
       "    }\n",
       "\n",
       "    .dataframe thead th {\n",
       "        text-align: right;\n",
       "    }\n",
       "</style>\n",
       "<table border=\"1\" class=\"dataframe\">\n",
       "  <thead>\n",
       "    <tr style=\"text-align: right;\">\n",
       "      <th></th>\n",
       "      <th>ID</th>\n",
       "      <th>TARGET</th>\n",
       "    </tr>\n",
       "  </thead>\n",
       "  <tbody>\n",
       "    <tr>\n",
       "      <th>0</th>\n",
       "      <td>1154270440</td>\n",
       "      <td>1</td>\n",
       "    </tr>\n",
       "    <tr>\n",
       "      <th>1</th>\n",
       "      <td>1147987574</td>\n",
       "      <td>2</td>\n",
       "    </tr>\n",
       "    <tr>\n",
       "      <th>2</th>\n",
       "      <td>1129622364</td>\n",
       "      <td>0</td>\n",
       "    </tr>\n",
       "    <tr>\n",
       "      <th>3</th>\n",
       "      <td>619797496</td>\n",
       "      <td>2</td>\n",
       "    </tr>\n",
       "    <tr>\n",
       "      <th>4</th>\n",
       "      <td>7391484886</td>\n",
       "      <td>2</td>\n",
       "    </tr>\n",
       "  </tbody>\n",
       "</table>\n",
       "</div>"
      ],
      "text/plain": [
       "           ID  TARGET\n",
       "0  1154270440       1\n",
       "1  1147987574       2\n",
       "2  1129622364       0\n",
       "3   619797496       2\n",
       "4  7391484886       2"
      ]
     },
     "execution_count": 32,
     "metadata": {},
     "output_type": "execute_result"
    }
   ],
   "source": [
    "answer = pd.DataFrame({\n",
    "    \"ID\": df_test[\"ID\"], \n",
    "    \"TARGET\": yhat,\n",
    "})\n",
    "answer.head()"
   ]
  },
  {
   "cell_type": "code",
   "execution_count": 33,
   "id": "78c3342f-7e19-455b-a856-693d56bcb952",
   "metadata": {},
   "outputs": [],
   "source": [
    "answer.to_csv(\"contest_answer.csv\", index=False)"
   ]
  },
  {
   "cell_type": "markdown",
   "id": "d8de1bd5-eadb-4010-a297-2d18a9fd9371",
   "metadata": {},
   "source": [
    "Получаем `contest_segments.csv`"
   ]
  },
  {
   "cell_type": "code",
   "execution_count": 34,
   "id": "801154ac-63f5-4cb9-9027-12111cd706ea",
   "metadata": {},
   "outputs": [],
   "source": [
    "proba = model.predict_proba(X)"
   ]
  },
  {
   "cell_type": "code",
   "execution_count": 35,
   "id": "c7292932-9280-4def-be8f-748898ac6d4c",
   "metadata": {},
   "outputs": [
    {
     "data": {
      "text/html": [
       "<div>\n",
       "<style scoped>\n",
       "    .dataframe tbody tr th:only-of-type {\n",
       "        vertical-align: middle;\n",
       "    }\n",
       "\n",
       "    .dataframe tbody tr th {\n",
       "        vertical-align: top;\n",
       "    }\n",
       "\n",
       "    .dataframe thead th {\n",
       "        text-align: right;\n",
       "    }\n",
       "</style>\n",
       "<table border=\"1\" class=\"dataframe\">\n",
       "  <thead>\n",
       "    <tr style=\"text-align: right;\">\n",
       "      <th></th>\n",
       "      <th>ID</th>\n",
       "      <th>TARGET</th>\n",
       "      <th>PROBA</th>\n",
       "    </tr>\n",
       "  </thead>\n",
       "  <tbody>\n",
       "    <tr>\n",
       "      <th>0</th>\n",
       "      <td>1154270440</td>\n",
       "      <td>1</td>\n",
       "      <td>0.469359</td>\n",
       "    </tr>\n",
       "    <tr>\n",
       "      <th>1</th>\n",
       "      <td>1147987574</td>\n",
       "      <td>2</td>\n",
       "      <td>0.868437</td>\n",
       "    </tr>\n",
       "    <tr>\n",
       "      <th>2</th>\n",
       "      <td>1129622364</td>\n",
       "      <td>0</td>\n",
       "      <td>0.807798</td>\n",
       "    </tr>\n",
       "    <tr>\n",
       "      <th>3</th>\n",
       "      <td>619797496</td>\n",
       "      <td>2</td>\n",
       "      <td>0.502866</td>\n",
       "    </tr>\n",
       "    <tr>\n",
       "      <th>4</th>\n",
       "      <td>7391484886</td>\n",
       "      <td>2</td>\n",
       "      <td>0.856998</td>\n",
       "    </tr>\n",
       "  </tbody>\n",
       "</table>\n",
       "</div>"
      ],
      "text/plain": [
       "           ID  TARGET     PROBA\n",
       "0  1154270440       1  0.469359\n",
       "1  1147987574       2  0.868437\n",
       "2  1129622364       0  0.807798\n",
       "3   619797496       2  0.502866\n",
       "4  7391484886       2  0.856998"
      ]
     },
     "execution_count": 35,
     "metadata": {},
     "output_type": "execute_result"
    }
   ],
   "source": [
    "answer[\"PROBA\"] = np.max(proba, axis=1)\n",
    "answer.head()"
   ]
  },
  {
   "cell_type": "code",
   "execution_count": 36,
   "id": "30581d1f-7b75-4a39-bc6b-19418a349241",
   "metadata": {},
   "outputs": [
    {
     "data": {
      "text/plain": [
       "(1925, 3)"
      ]
     },
     "execution_count": 36,
     "metadata": {},
     "output_type": "execute_result"
    }
   ],
   "source": [
    "answer[answer[\"TARGET\"] == 1].shape"
   ]
  },
  {
   "cell_type": "code",
   "execution_count": 37,
   "id": "075ee0cc-cb2d-4ea8-b34e-997f30ea49fa",
   "metadata": {},
   "outputs": [
    {
     "data": {
      "text/plain": [
       "(500, 3)"
      ]
     },
     "execution_count": 37,
     "metadata": {},
     "output_type": "execute_result"
    }
   ],
   "source": [
    "second = answer[answer[\"TARGET\"] == 1]\n",
    "part1 = second.sort_values(\"PROBA\", ascending=False)[:500]\n",
    "part1.shape"
   ]
  },
  {
   "cell_type": "code",
   "execution_count": 38,
   "id": "ad871528-4169-4906-9b81-aaecf7cef376",
   "metadata": {},
   "outputs": [
    {
     "data": {
      "text/plain": [
       "(200, 3)"
      ]
     },
     "execution_count": 38,
     "metadata": {},
     "output_type": "execute_result"
    }
   ],
   "source": [
    "second = answer[answer[\"TARGET\"] == 2]\n",
    "part2 = second.sort_values(\"PROBA\", ascending=False)[:200]\n",
    "part2.shape"
   ]
  },
  {
   "cell_type": "code",
   "execution_count": 39,
   "id": "86418714-4616-480a-bb37-bfe6e9b67204",
   "metadata": {},
   "outputs": [
    {
     "data": {
      "text/plain": [
       "(700, 2)"
      ]
     },
     "execution_count": 39,
     "metadata": {},
     "output_type": "execute_result"
    }
   ],
   "source": [
    "result = pd.concat([part1, part2])\n",
    "result = result.drop(columns={\n",
    "    \"PROBA\"\n",
    "})\n",
    "result.shape"
   ]
  },
  {
   "cell_type": "code",
   "execution_count": 40,
   "id": "5cb64926-d257-48ed-80b0-55d2216c7214",
   "metadata": {},
   "outputs": [
    {
     "data": {
      "text/html": [
       "<div>\n",
       "<style scoped>\n",
       "    .dataframe tbody tr th:only-of-type {\n",
       "        vertical-align: middle;\n",
       "    }\n",
       "\n",
       "    .dataframe tbody tr th {\n",
       "        vertical-align: top;\n",
       "    }\n",
       "\n",
       "    .dataframe thead th {\n",
       "        text-align: right;\n",
       "    }\n",
       "</style>\n",
       "<table border=\"1\" class=\"dataframe\">\n",
       "  <thead>\n",
       "    <tr style=\"text-align: right;\">\n",
       "      <th></th>\n",
       "      <th>ID</th>\n",
       "      <th>TARGET</th>\n",
       "    </tr>\n",
       "  </thead>\n",
       "  <tbody>\n",
       "    <tr>\n",
       "      <th>8576</th>\n",
       "      <td>460916695</td>\n",
       "      <td>1</td>\n",
       "    </tr>\n",
       "    <tr>\n",
       "      <th>1674</th>\n",
       "      <td>435560377</td>\n",
       "      <td>1</td>\n",
       "    </tr>\n",
       "    <tr>\n",
       "      <th>6563</th>\n",
       "      <td>10436924517</td>\n",
       "      <td>1</td>\n",
       "    </tr>\n",
       "    <tr>\n",
       "      <th>1830</th>\n",
       "      <td>752352732</td>\n",
       "      <td>1</td>\n",
       "    </tr>\n",
       "    <tr>\n",
       "      <th>537</th>\n",
       "      <td>7454718934</td>\n",
       "      <td>1</td>\n",
       "    </tr>\n",
       "  </tbody>\n",
       "</table>\n",
       "</div>"
      ],
      "text/plain": [
       "               ID  TARGET\n",
       "8576    460916695       1\n",
       "1674    435560377       1\n",
       "6563  10436924517       1\n",
       "1830    752352732       1\n",
       "537    7454718934       1"
      ]
     },
     "execution_count": 40,
     "metadata": {},
     "output_type": "execute_result"
    }
   ],
   "source": [
    "result.head()"
   ]
  },
  {
   "cell_type": "code",
   "execution_count": 41,
   "id": "4a5834e9-1fc1-4a1e-a05a-1aff35998a31",
   "metadata": {},
   "outputs": [],
   "source": [
    "result.to_csv(\"contest_segments.csv\", index=False)"
   ]
  }
 ],
 "metadata": {
  "kernelspec": {
   "display_name": "Python 3",
   "language": "python",
   "name": "python3"
  },
  "language_info": {
   "codemirror_mode": {
    "name": "ipython",
    "version": 3
   },
   "file_extension": ".py",
   "mimetype": "text/x-python",
   "name": "python",
   "nbconvert_exporter": "python",
   "pygments_lexer": "ipython3",
   "version": "3.9.4"
  }
 },
 "nbformat": 4,
 "nbformat_minor": 5
}
